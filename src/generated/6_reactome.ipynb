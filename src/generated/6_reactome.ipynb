{
 "cells": [
  {
   "cell_type": "markdown",
   "id": "19434ba4-e814-46df-ba5e-7dd8102185ee",
   "metadata": {},
   "source": [
    "Get the reactome links from the Rhea database:"
   ]
  },
  {
   "cell_type": "code",
   "execution_count": 1,
   "id": "6aa63337-8a19-48f3-9469-8dd55c5a0c28",
   "metadata": {},
   "outputs": [],
   "source": [
    "%%capture\n",
    "%%bash\n",
    "\n",
    "cd reactome/\n",
    "wget https://ftp.expasy.org/databases/rhea/tsv/rhea2reactome.tsv"
   ]
  },
  {
   "cell_type": "code",
   "execution_count": 2,
   "id": "0f3d6811-ad81-4dfd-8cb8-731521aee92c",
   "metadata": {},
   "outputs": [
    {
     "data": {
      "text/html": [
       "<div>\n",
       "<style scoped>\n",
       "    .dataframe tbody tr th:only-of-type {\n",
       "        vertical-align: middle;\n",
       "    }\n",
       "\n",
       "    .dataframe tbody tr th {\n",
       "        vertical-align: top;\n",
       "    }\n",
       "\n",
       "    .dataframe thead th {\n",
       "        text-align: right;\n",
       "    }\n",
       "</style>\n",
       "<table border=\"1\" class=\"dataframe\">\n",
       "  <thead>\n",
       "    <tr style=\"text-align: right;\">\n",
       "      <th></th>\n",
       "      <th>RHEA_ID</th>\n",
       "      <th>DIRECTION</th>\n",
       "      <th>MASTER_ID</th>\n",
       "      <th>ID</th>\n",
       "    </tr>\n",
       "  </thead>\n",
       "  <tbody>\n",
       "    <tr>\n",
       "      <th>0</th>\n",
       "      <td>10041</td>\n",
       "      <td>LR</td>\n",
       "      <td>10040</td>\n",
       "      <td>R-HSA-176606.3</td>\n",
       "    </tr>\n",
       "    <tr>\n",
       "      <th>1</th>\n",
       "      <td>10041</td>\n",
       "      <td>LR</td>\n",
       "      <td>10040</td>\n",
       "      <td>R-HSA-8953499.3</td>\n",
       "    </tr>\n",
       "    <tr>\n",
       "      <th>2</th>\n",
       "      <td>10117</td>\n",
       "      <td>LR</td>\n",
       "      <td>10116</td>\n",
       "      <td>R-HSA-71299.4</td>\n",
       "    </tr>\n",
       "    <tr>\n",
       "      <th>3</th>\n",
       "      <td>10133</td>\n",
       "      <td>LR</td>\n",
       "      <td>10132</td>\n",
       "      <td>R-HSA-159443.3</td>\n",
       "    </tr>\n",
       "    <tr>\n",
       "      <th>4</th>\n",
       "      <td>10165</td>\n",
       "      <td>LR</td>\n",
       "      <td>10164</td>\n",
       "      <td>R-HSA-71660.4</td>\n",
       "    </tr>\n",
       "  </tbody>\n",
       "</table>\n",
       "</div>"
      ],
      "text/plain": [
       "   RHEA_ID DIRECTION  MASTER_ID               ID\n",
       "0    10041        LR      10040   R-HSA-176606.3\n",
       "1    10041        LR      10040  R-HSA-8953499.3\n",
       "2    10117        LR      10116    R-HSA-71299.4\n",
       "3    10133        LR      10132   R-HSA-159443.3\n",
       "4    10165        LR      10164    R-HSA-71660.4"
      ]
     },
     "execution_count": 2,
     "metadata": {},
     "output_type": "execute_result"
    }
   ],
   "source": [
    "import pandas as pnd\n",
    "\n",
    "table = pnd.read_csv('reactome/rhea2reactome.tsv', sep='\\t')\n",
    "table.head()"
   ]
  },
  {
   "cell_type": "code",
   "execution_count": 3,
   "id": "92f52f9c-ab5b-4750-b593-b96c00b64d71",
   "metadata": {},
   "outputs": [],
   "source": [
    "rhea_to_reactome = {}\n",
    "\n",
    "for index, row in table.iterrows(): \n",
    "    if row['RHEA_ID'] not in rhea_to_reactome.keys(): \n",
    "        rhea_to_reactome[str(row['RHEA_ID'])] = set()\n",
    "    rhea_to_reactome[str(row['RHEA_ID'])].add( row['ID'])\n",
    "    "
   ]
  },
  {
   "cell_type": "code",
   "execution_count": 4,
   "id": "9c96d298-8648-40c4-8283-59540c152fb4",
   "metadata": {},
   "outputs": [],
   "source": [
    "import copy\n",
    "import pickle\n",
    "\n",
    "\n",
    "def extend_with_reactome(something_to_others, rhea_to_reactome):\n",
    "\n",
    "    something_to_others_basename = something_to_others\n",
    "    \n",
    "    # read something_to_others\n",
    "    with open(f'mnx_dicts_R/{something_to_others}.pickle', 'rb') as handler:\n",
    "        something_to_others = pickle.load(handler)\n",
    "\n",
    "\n",
    "    something_to_others_reactome = copy.deepcopy(something_to_others)\n",
    "    for something_id in something_to_others.keys():  # something_id = bigg or seed ID.\n",
    "        something_to_others_reactome[something_id]['reactome'] = set()\n",
    "\n",
    "        for rhea_id in something_to_others[something_id]['rhea']:\n",
    "            try:  \n",
    "                reactome_ids = rhea_to_reactome[rhea_id]\n",
    "                for reactome_id in reactome_ids:\n",
    "                    something_to_others_reactome[something_id]['reactome'].add(reactome_id)\n",
    "            except:  \n",
    "                continue\n",
    "                \n",
    "                \n",
    "    # save sopmething to others extended with pubchem\n",
    "    with open(f'reactome_dicts/{something_to_others_basename}.pickle', 'wb') as handle:\n",
    "        pickle.dump(something_to_others_reactome, handle)\n",
    "    \n",
    "    \n",
    "    return something_to_others_reactome\n",
    "    "
   ]
  },
  {
   "cell_type": "code",
   "execution_count": 5,
   "id": "7441e4b5-1612-4be6-882c-ad11e66e4763",
   "metadata": {
    "tags": []
   },
   "outputs": [],
   "source": [
    "\n",
    "bigg_to_others =           extend_with_reactome('bigg_to_others', rhea_to_reactome)\n",
    "bigg_to_others_extended =  extend_with_reactome('bigg_to_others_extended', rhea_to_reactome)\n",
    "seed_to_others =           extend_with_reactome('seed_to_others', rhea_to_reactome)\n",
    "seed_to_others_extended =  extend_with_reactome('seed_to_others_extended', rhea_to_reactome)"
   ]
  },
  {
   "cell_type": "markdown",
   "id": "9b8018b3-a796-4ee8-a18f-4cd3dfccde42",
   "metadata": {},
   "source": [
    "## testing area"
   ]
  },
  {
   "cell_type": "code",
   "execution_count": 6,
   "id": "e854ff7d-846c-4415-b2e4-de9e91eb0c9c",
   "metadata": {},
   "outputs": [
    {
     "data": {
      "text/plain": [
       "{'kegg.reaction': {'R00243'},\n",
       " 'biocyc': {'GLUTAMATE-DEHYDROGENASE-RXN'},\n",
       " 'seed.reaction': {'rxn00182', 'rxn19827', 'rxn30075', 'rxn34790', 'rxn34793'},\n",
       " 'bigg.reaction': {'GDH',\n",
       "  'GDH1',\n",
       "  'GDHm',\n",
       "  'GLUDxi',\n",
       "  'R_GDH',\n",
       "  'R_GDH1',\n",
       "  'R_GDHm',\n",
       "  'R_GLUDxi'},\n",
       " 'rhea': {'15133', '15134', '15135', '15136'},\n",
       " 'sabiork.reaction': {'755'},\n",
       " 'ec-code': {'1.4.1.14', '1.4.1.2', '1.4.1.3', '1.4.1.4'},\n",
       " 'metanetx.reaction': {'MNXR144972'},\n",
       " 'reactome': {'R-HSA-70589.5', 'R-HSA-70600.5'}}"
      ]
     },
     "execution_count": 6,
     "metadata": {},
     "output_type": "execute_result"
    }
   ],
   "source": [
    "bigg_to_others['GDH']"
   ]
  },
  {
   "cell_type": "code",
   "execution_count": 7,
   "id": "cc5a914a-f633-48cc-bb9b-f7b81ee4f981",
   "metadata": {},
   "outputs": [
    {
     "data": {
      "text/plain": [
       "{'kegg.reaction': {'R00243'},\n",
       " 'biocyc': {'GLUTAMATE-DEHYDROGENASE-RXN'},\n",
       " 'seed.reaction': {'rxn00182', 'rxn19827', 'rxn30075', 'rxn34790', 'rxn34793'},\n",
       " 'bigg.reaction': {'GDH',\n",
       "  'GDH1',\n",
       "  'GDHm',\n",
       "  'GLUDxi',\n",
       "  'R_GDH',\n",
       "  'R_GDH1',\n",
       "  'R_GDHm',\n",
       "  'R_GLUDxi'},\n",
       " 'rhea': {'15133', '15134', '15135', '15136'},\n",
       " 'sabiork.reaction': {'755'},\n",
       " 'ec-code': {'1.4.1.14', '1.4.1.2', '1.4.1.3', '1.4.1.4'},\n",
       " 'metanetx.reaction': {'MNXR144972'},\n",
       " 'reactome': {'R-HSA-70589.5', 'R-HSA-70600.5'}}"
      ]
     },
     "execution_count": 7,
     "metadata": {},
     "output_type": "execute_result"
    }
   ],
   "source": [
    "\n",
    "seed_to_others_extended['rxn19827']"
   ]
  },
  {
   "cell_type": "code",
   "execution_count": null,
   "id": "fe71e401-68ac-45a2-afa7-5324d274d49b",
   "metadata": {},
   "outputs": [],
   "source": []
  }
 ],
 "metadata": {
  "kernelspec": {
   "display_name": "Python 3 (ipykernel)",
   "language": "python",
   "name": "python3"
  },
  "language_info": {
   "codemirror_mode": {
    "name": "ipython",
    "version": 3
   },
   "file_extension": ".py",
   "mimetype": "text/x-python",
   "name": "python",
   "nbconvert_exporter": "python",
   "pygments_lexer": "ipython3",
   "version": "3.9.15"
  }
 },
 "nbformat": 4,
 "nbformat_minor": 5
}
