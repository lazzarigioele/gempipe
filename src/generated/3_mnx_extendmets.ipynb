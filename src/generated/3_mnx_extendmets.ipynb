{
 "cells": [
  {
   "cell_type": "markdown",
   "id": "e5dc599b-b1cf-4f25-ba11-36ed1940d64d",
   "metadata": {
    "tags": []
   },
   "source": [
    "# Part 1: extending  mnx metabolite based on stereochemistry"
   ]
  },
  {
   "cell_type": "code",
   "execution_count": 1,
   "id": "62411456-54c5-4316-806f-8e9e49f3a9b8",
   "metadata": {
    "tags": [
     "remove-cell"
    ]
   },
   "outputs": [],
   "source": [
    "import pandas as pnd\n",
    "import pickle\n",
    "import copy"
   ]
  },
  {
   "cell_type": "markdown",
   "id": "e1d8f8e8-5ee8-458e-9718-67986b7573c7",
   "metadata": {},
   "source": [
    "## load raw database"
   ]
  },
  {
   "cell_type": "code",
   "execution_count": 2,
   "id": "2e728e0d-4bd5-43c3-b040-b2992dccadcb",
   "metadata": {},
   "outputs": [],
   "source": [
    "header_chem_isom = ['parent', 'child', 'description']\n",
    "chem_isom = pnd.read_csv('metanetx_4_4/chem_isom.tsv', sep='\\t', comment='#', header=None, names=header_chem_isom)\n",
    "# it's not possible to set an index here, because there are alwyas duplicated IDs\n",
    "# In fact, 4.4/USERMANUAL.md reports: \"parent molecule includes the child molecule (...)\n",
    "# one-to-one, many-to-one and one-to-many relations are possible, but the overall graph is a acyclic\""
   ]
  },
  {
   "cell_type": "code",
   "execution_count": 3,
   "id": "201b44de-d0dd-40c0-a494-badb6f857afd",
   "metadata": {},
   "outputs": [],
   "source": [
    "\n",
    "with open(f'mnx_dicts_M/crossrefs.pickle', 'rb') as handle:\n",
    "    crossrefs = pickle.load(handle)"
   ]
  },
  {
   "cell_type": "code",
   "execution_count": 4,
   "id": "20e96cb5-22ac-40b4-b88c-f79bcf9a3574",
   "metadata": {},
   "outputs": [],
   "source": [
    "with open(f'mnx_dicts_M/bigg_to_others.pickle', 'rb') as handle:\n",
    "    bigg_to_others = pickle.load(handle)\n",
    "    \n",
    "with open(f'mnx_dicts_M/seed_to_others.pickle', 'rb') as handle:\n",
    "    seed_to_others = pickle.load(handle)"
   ]
  },
  {
   "cell_type": "markdown",
   "id": "d372563d-5ca6-4ce5-8fd4-d75cbc7d0e17",
   "metadata": {},
   "source": [
    "# Part 2: extend bigg/seed to others dict"
   ]
  },
  {
   "cell_type": "code",
   "execution_count": 5,
   "id": "544b53dd-4fac-4706-899e-5d5f4d2002d8",
   "metadata": {},
   "outputs": [],
   "source": [
    "# create mnx_to_mnxchilds in order to extend annotations \n",
    "def create_mnx_to_mnxchilds_dict(chem_isom): \n",
    "    \n",
    "    \n",
    "    # parse the table: \n",
    "    mnx_to_mnxchilds = {}\n",
    "    for index, row in chem_isom.iterrows():\n",
    "        \n",
    "        \n",
    "        # populate the dictionary:\n",
    "        parent = row['parent']\n",
    "        child = row['child']\n",
    "        if parent not in mnx_to_mnxchilds.keys(): \n",
    "            mnx_to_mnxchilds[parent] = set()\n",
    "        mnx_to_mnxchilds[parent].add(child)\n",
    "            \n",
    "        \n",
    "    # write to disk: \n",
    "    with open(f'mnx_dicts_M/mnx_to_mnxchilds.pickle', 'wb') as handle:\n",
    "        pickle.dump(mnx_to_mnxchilds, handle)\n",
    "        \n",
    "        \n",
    "    return mnx_to_mnxchilds\n",
    "    "
   ]
  },
  {
   "cell_type": "code",
   "execution_count": 6,
   "id": "3e2470d4-d593-4760-a6e2-37d790e7e399",
   "metadata": {},
   "outputs": [],
   "source": [
    "mnx_to_mnxchilds = create_mnx_to_mnxchilds_dict(chem_isom)"
   ]
  },
  {
   "cell_type": "code",
   "execution_count": 7,
   "id": "eed573ac-e21e-45a3-b281-30715d151a88",
   "metadata": {},
   "outputs": [],
   "source": [
    "#extend the dictionaries inclusding all the childs:\n",
    "def extend_based_on_childs(something_to_others, mnx_to_mnxchilds, crossrefs, name):\n",
    "    \n",
    "    \n",
    "    something_to_others_extended = copy.deepcopy(something_to_others)\n",
    "    for something_id in something_to_others.keys():\n",
    "        for parent in something_to_others[something_id]['metanetx.chemical']:\n",
    "            try: childs = mnx_to_mnxchilds[parent]\n",
    "            # no childs for this parent\n",
    "            except: continue\n",
    "            \n",
    "            \n",
    "            #iterate all the databases: \n",
    "            for mnx_id in childs:    \n",
    "                for crossref in crossrefs.keys(): \n",
    "                    try: annots = crossrefs[crossref][mnx_id]\n",
    "                    # no annotations for this mnx_id for this external database\n",
    "                    except: continue\n",
    "                    for annot in annots:\n",
    "                        something_to_others_extended[something_id][crossref].add(annot)\n",
    "                        \n",
    "    \n",
    "    # write to disk\n",
    "    with open(f'mnx_dicts_M/{name}.pickle', 'wb') as handle:\n",
    "        pickle.dump(something_to_others_extended, handle)\n",
    "            \n",
    "            \n",
    "    return something_to_others_extended\n",
    "    "
   ]
  },
  {
   "cell_type": "code",
   "execution_count": 8,
   "id": "d8480826-99e8-4fbc-bb58-5131f62cd095",
   "metadata": {},
   "outputs": [],
   "source": [
    "bigg_to_others_extended = extend_based_on_childs(bigg_to_others, mnx_to_mnxchilds, crossrefs, 'bigg_to_others_extended' )\n",
    "\n",
    "seed_to_others_extended = extend_based_on_childs(seed_to_others, mnx_to_mnxchilds, crossrefs, 'seed_to_others_extended' )"
   ]
  },
  {
   "cell_type": "markdown",
   "id": "3a823f62-fd42-48a4-8291-af24a4a0bb38",
   "metadata": {},
   "source": [
    "## testing area"
   ]
  },
  {
   "cell_type": "code",
   "execution_count": 9,
   "id": "06b216ff-389f-48b8-b28c-40ca32dceecf",
   "metadata": {},
   "outputs": [
    {
     "data": {
      "text/plain": [
       "{'kegg.compound': {'C00031'},\n",
       " 'kegg.drug': {'D00009'},\n",
       " 'kegg.glycan': set(),\n",
       " 'biocyc': {'Glucopyranose',\n",
       "  'Hederagenin-Monoglucosides',\n",
       "  'Soyasapogenol-B-Monoglucosides',\n",
       "  'Soyasapogenol-E-Monoglucosides'},\n",
       " 'hmdb': {'HMDB0000122',\n",
       "  'HMDB0000516',\n",
       "  'HMDB0003340',\n",
       "  'HMDB0006564',\n",
       "  'HMDB00122',\n",
       "  'HMDB00516',\n",
       "  'HMDB0062170',\n",
       "  'HMDB03340',\n",
       "  'HMDB06564',\n",
       "  'HMDB62170'},\n",
       " 'bigg.metabolite': {'glc__D'},\n",
       " 'seed.compound': {'cpd00027'},\n",
       " 'chebi': {'4167'},\n",
       " 'sabiork': {'1406', '1407'},\n",
       " 'lipidmaps': set(),\n",
       " 'envipath': set(),\n",
       " 'reactome': set(),\n",
       " 'rhea_g': set(),\n",
       " 'rhea_p': set(),\n",
       " 'swisslipids': set(),\n",
       " 'inchi': {'InChI=1S/C6H12O6/c7-1-2-3(8)4(9)5(10)6(11)12-2/h2-11H,1H2/t2-,3-,4+,5-,6?/m1/s1'},\n",
       " 'inchikey': {'InChIKey=WQZGKKKJIJFFOK-GASJEMHNSA-N'},\n",
       " 'smiles': {'OC[C@H]1OC(O)[C@H](O)[C@@H](O)[C@@H]1O'},\n",
       " 'metanetx.chemical': {'MNXM1137670'}}"
      ]
     },
     "execution_count": 9,
     "metadata": {},
     "output_type": "execute_result"
    }
   ],
   "source": [
    "bigg_to_others['glc__D']"
   ]
  },
  {
   "cell_type": "code",
   "execution_count": 11,
   "id": "dfd6aea5-aa56-4fba-9433-5cb5df8cb3c3",
   "metadata": {},
   "outputs": [
    {
     "data": {
      "text/plain": [
       "{'kegg.compound': {'C00031', 'C00221', 'C00267'},\n",
       " 'kegg.drug': {'D00009'},\n",
       " 'kegg.glycan': set(),\n",
       " 'biocyc': {'ALPHA-GLUCOSE',\n",
       "  'GLC',\n",
       "  'Glucopyranose',\n",
       "  'Hederagenin-Monoglucosides',\n",
       "  'Soyasapogenol-B-Monoglucosides',\n",
       "  'Soyasapogenol-E-Monoglucosides'},\n",
       " 'hmdb': {'HMDB0000122',\n",
       "  'HMDB0000516',\n",
       "  'HMDB0003340',\n",
       "  'HMDB0003345',\n",
       "  'HMDB0006564',\n",
       "  'HMDB00122',\n",
       "  'HMDB00516',\n",
       "  'HMDB0061922',\n",
       "  'HMDB0062170',\n",
       "  'HMDB03340',\n",
       "  'HMDB03345',\n",
       "  'HMDB06564',\n",
       "  'HMDB61922',\n",
       "  'HMDB62170'},\n",
       " 'bigg.metabolite': {'Glc_aD', 'glc_D_B', 'glc__D', 'glc__aD', 'glc__bD'},\n",
       " 'seed.compound': {'cpd00027', 'cpd00190', 'cpd19001'},\n",
       " 'chebi': {'10242',\n",
       "  '10397',\n",
       "  '12318',\n",
       "  '12373',\n",
       "  '15903',\n",
       "  '17925',\n",
       "  '22386',\n",
       "  '22795',\n",
       "  '40557',\n",
       "  '41140',\n",
       "  '4167',\n",
       "  '42802',\n",
       "  '88300'},\n",
       " 'sabiork': {'1364', '1378', '1406', '1407'},\n",
       " 'lipidmaps': set(),\n",
       " 'envipath': {'32de3cf4-e3e6-4168-956e-32fa5ddb0ce1/compound/bee44ace-e680-4580-8d73-374e54ae70f8',\n",
       "  '650babc9-9d68-4b73-9332-11972ca26f7b/compound/16de7863-b7a8-4f6e-84c4-cc26b6bd3cd5'},\n",
       " 'reactome': {'R-ALL-113780',\n",
       "  'R-ALL-1605745',\n",
       "  'R-ALL-170829',\n",
       "  'R-ALL-70113',\n",
       "  'R-ALL-70115',\n",
       "  'R-ALL-964746'},\n",
       " 'rhea_g': set(),\n",
       " 'rhea_p': set(),\n",
       " 'swisslipids': set(),\n",
       " 'inchi': {'InChI=1S/C6H12O6/c7-1-2-3(8)4(9)5(10)6(11)12-2/h2-11H,1H2/t2-,3-,4+,5-,6+/m1/s1',\n",
       "  'InChI=1S/C6H12O6/c7-1-2-3(8)4(9)5(10)6(11)12-2/h2-11H,1H2/t2-,3-,4+,5-,6-/m1/s1',\n",
       "  'InChI=1S/C6H12O6/c7-1-2-3(8)4(9)5(10)6(11)12-2/h2-11H,1H2/t2-,3-,4+,5-,6?/m1/s1'},\n",
       " 'inchikey': {'InChIKey=WQZGKKKJIJFFOK-DVKNGEFBSA-N',\n",
       "  'InChIKey=WQZGKKKJIJFFOK-GASJEMHNSA-N',\n",
       "  'InChIKey=WQZGKKKJIJFFOK-VFUOTHLCSA-N'},\n",
       " 'smiles': {'OC[C@H]1OC(O)[C@H](O)[C@@H](O)[C@@H]1O',\n",
       "  'OC[C@H]1O[C@@H](O)[C@H](O)[C@@H](O)[C@@H]1O',\n",
       "  'OC[C@H]1O[C@H](O)[C@H](O)[C@@H](O)[C@@H]1O'},\n",
       " 'metanetx.chemical': {'MNXM1105026', 'MNXM1105027', 'MNXM1137670'}}"
      ]
     },
     "execution_count": 11,
     "metadata": {},
     "output_type": "execute_result"
    }
   ],
   "source": [
    "bigg_to_others_extended['glc__D']"
   ]
  },
  {
   "cell_type": "code",
   "execution_count": null,
   "id": "07118fd7-b2a4-480a-9105-22b6208093d4",
   "metadata": {},
   "outputs": [],
   "source": []
  }
 ],
 "metadata": {
  "kernelspec": {
   "display_name": "Python 3 (ipykernel)",
   "language": "python",
   "name": "python3"
  },
  "language_info": {
   "codemirror_mode": {
    "name": "ipython",
    "version": 3
   },
   "file_extension": ".py",
   "mimetype": "text/x-python",
   "name": "python",
   "nbconvert_exporter": "python",
   "pygments_lexer": "ipython3",
   "version": "3.9.15"
  }
 },
 "nbformat": 4,
 "nbformat_minor": 5
}
