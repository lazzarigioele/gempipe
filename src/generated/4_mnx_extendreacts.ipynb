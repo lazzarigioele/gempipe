{
 "cells": [
  {
   "cell_type": "code",
   "execution_count": 1,
   "id": "af5ebef4-3e38-413b-9f10-db646fd08aa1",
   "metadata": {},
   "outputs": [],
   "source": [
    "import pandas as pnd\n",
    "import pickle\n",
    "import copy\n",
    "import itertools"
   ]
  },
  {
   "cell_type": "markdown",
   "id": "ac23697d-8765-4c0e-aa69-53bb50b41378",
   "metadata": {},
   "source": [
    "# Part 1: creating mnx_to_mnxchilds "
   ]
  },
  {
   "cell_type": "markdown",
   "id": "00f10019-6ba3-4315-821d-3fa671818aa2",
   "metadata": {},
   "source": [
    "## load raw database"
   ]
  },
  {
   "cell_type": "code",
   "execution_count": 2,
   "id": "a2930f6c-0898-4426-b4c9-a32accc34f4c",
   "metadata": {},
   "outputs": [],
   "source": [
    "header_reac_prop = ['ID', 'mnx_equation', 'reference', 'ECs', 'is_balanced', 'is_transport',]\n",
    "reac_prop = pnd.read_csv('metanetx_4_4/reac_prop.tsv', sep='\\t', comment='#', header=None, names=header_reac_prop)\n",
    "reac_prop.set_index('ID', drop=True, inplace=True, verify_integrity=True)\n"
   ]
  },
  {
   "cell_type": "code",
   "execution_count": 3,
   "id": "a704e262-5ce0-4979-8c10-c1dc3063a7b0",
   "metadata": {},
   "outputs": [],
   "source": [
    "header_chem_isom = ['parent', 'child', 'description']\n",
    "chem_isom = pnd.read_csv('metanetx_4_4/chem_isom.tsv', sep='\\t', comment='#', header=None, names=header_chem_isom)\n",
    "# it's not possible to set an index here, because there are alwyas duplicated IDs\n",
    "# In fact, 4.4/USERMANUAL.md reports: \"parent molecule includes the child molecule (...)\n",
    "# one-to-one, many-to-one and one-to-many relations are possible, but the overall graph is a acyclic\""
   ]
  },
  {
   "cell_type": "markdown",
   "id": "0a34100a-6038-4eda-b929-ba82911047a5",
   "metadata": {},
   "source": [
    "## load parent to child (mets)"
   ]
  },
  {
   "cell_type": "code",
   "execution_count": 4,
   "id": "26368ce3-91aa-47ab-96f6-f5110fa704e1",
   "metadata": {},
   "outputs": [],
   "source": [
    "\n",
    "with open(f'mnx_dicts_M/mnx_to_mnxchilds.pickle', 'rb') as handle:\n",
    "    mnx_to_mnxchilds_m = pickle.load(handle)\n"
   ]
  },
  {
   "cell_type": "markdown",
   "id": "51995e2d-acdc-4235-93c8-4be7b135daad",
   "metadata": {},
   "source": [
    "## create reac_prop_simplyfied\n"
   ]
  },
  {
   "cell_type": "code",
   "execution_count": 5,
   "id": "da6beae6-5d6d-4635-894b-7c54b077240e",
   "metadata": {},
   "outputs": [],
   "source": [
    "def get_reac_prop_simplyfied(reac_prop): \n",
    "    \n",
    "    # Take each MNX reaction as defined in 'reac_prop', and convert it into a simplyfied \n",
    "    # version with no stoichiometry, compartment, protons. \n",
    "    \n",
    "    # parse the table:\n",
    "    reac_prop_simplyfied = {}\n",
    "    for mnx_id, row in reac_prop.iterrows():\n",
    "\n",
    "        # get reactants and products:\n",
    "        mnx_reacs, mnx_prods = row['mnx_equation'].split(' = ')\n",
    "\n",
    "        # remove stoichiometry: \n",
    "        mnx_reacs = [i for i in mnx_reacs.split(' ') if '@' in i]\n",
    "        mnx_prods = [i for i in mnx_prods.split(' ') if '@' in i]\n",
    "\n",
    "        # remove compartment: \n",
    "        mnx_reacs = [i.split('@', 1)[0] for i in mnx_reacs]\n",
    "        mnx_prods = [i.split('@', 1)[0] for i in mnx_prods]\n",
    "\n",
    "        # convert to set:\n",
    "        mnx_reacs = set(mnx_reacs)\n",
    "        mnx_prods = set(mnx_prods)\n",
    "\n",
    "        # remove protons: \n",
    "        if 'MNXM1' in mnx_reacs: mnx_reacs.remove('MNXM1')\n",
    "        if 'MNXM1' in mnx_prods: mnx_prods.remove('MNXM1')\n",
    "\n",
    "        # skip reactions where biomass appears: \n",
    "        if 'BIOMASS' in mnx_reacs: continue\n",
    "        if 'BIOMASS' in mnx_prods: continue\n",
    "\n",
    "        # populate the dictionary\n",
    "        reac_prop_simplyfied[mnx_id] = {\n",
    "            'mnx_reacs': mnx_reacs, \n",
    "            'mnx_prods': mnx_prods, \n",
    "        }\n",
    "        \n",
    "    return reac_prop_simplyfied\n",
    "    "
   ]
  },
  {
   "cell_type": "code",
   "execution_count": 6,
   "id": "be861a41-3946-457e-ae7b-5081e7bfdf94",
   "metadata": {},
   "outputs": [],
   "source": [
    "reac_prop_simplyfied = get_reac_prop_simplyfied(reac_prop)"
   ]
  },
  {
   "cell_type": "markdown",
   "id": "e5428925-4f00-45b9-ac37-ae1f9966f4eb",
   "metadata": {
    "tags": []
   },
   "source": [
    "## create mnx_to_mnxchilds (reacs)\n"
   ]
  },
  {
   "cell_type": "code",
   "execution_count": 7,
   "id": "09989d72-1309-4aa8-9e1c-46f7c04b4480",
   "metadata": {
    "tags": []
   },
   "outputs": [],
   "source": [
    "def get_match(reacs, prods, reac_prop_simplyfied): \n",
    "    \n",
    "    # Given a set of reacts and prods, search for a corresponding reaction in the given set of \n",
    "    # simplyfied reactions. \n",
    "    \n",
    "    for key in reac_prop_simplyfied.keys(): \n",
    "        \n",
    "        # check same direction: \n",
    "        same_dir = reacs == reac_prop_simplyfied[key]['mnx_reacs'] and prods == reac_prop_simplyfied[key]['mnx_prods']\n",
    "        if same_dir : \n",
    "            return key\n",
    "        \n",
    "        # check opposte direction:\n",
    "        inv_dir  = prods == reac_prop_simplyfied[key]['mnx_reacs'] and reacs == reac_prop_simplyfied[key]['mnx_prods']\n",
    "        if inv_dir : \n",
    "            return key\n",
    "        \n",
    "        \n",
    "    return None"
   ]
  },
  {
   "cell_type": "code",
   "execution_count": 8,
   "id": "90b805a8-703d-4d21-9a6e-5beff5e1ea86",
   "metadata": {},
   "outputs": [],
   "source": [
    "\n",
    "def get_mnx_to_mnxchilds(reac_prop_simplyfied, mnx_to_mnxchilds_m):\n",
    "\n",
    "\n",
    "    # create a dictionary where each reaction points to its \"child\" reactions. \n",
    "    mnx_to_mnxchilds = {}\n",
    "\n",
    "    \n",
    "    # get the list of all possible parent metabolites: \n",
    "    all_parents  = set(mnx_to_mnxchilds_m.keys())\n",
    "\n",
    "    \n",
    "    # iterate through the list of simplified reactions: \n",
    "    for index, rid in enumerate(list(reac_prop_simplyfied.keys())):\n",
    "\n",
    "\n",
    "        # get reactants and products: \n",
    "        mnx_reacs = reac_prop_simplyfied[rid]['mnx_reacs']\n",
    "        mnx_prods  = reac_prop_simplyfied[rid]['mnx_prods']\n",
    "\n",
    "\n",
    "        # whether some involved metabolite (reactant or product) has childs.\n",
    "        has_childs = False  \n",
    "\n",
    "        \n",
    "        # 'intepret' will be a list of lists. Each molecule appears in a list together with \n",
    "        # its childs (if any). Reactants and products will be seprated by a list containing just\n",
    "        # the equality sign as a delimiter ['=']. \n",
    "        interpret = []\n",
    "\n",
    "        # parse reactants: \n",
    "        for reac in mnx_reacs:    \n",
    "            # check if this reactant has childs: \n",
    "            if reac in all_parents : \n",
    "                childs = mnx_to_mnxchilds_m[reac]\n",
    "                interpret.append( [reac] + list(childs))\n",
    "                has_childs = True\n",
    "            else: interpret.append([reac])\n",
    "\n",
    "        interpret.append(['='])\n",
    "\n",
    "        # parse products: \n",
    "        for prod in mnx_prods:    \n",
    "            # check if this product has childs: \n",
    "            if prod in all_parents : \n",
    "                childs = mnx_to_mnxchilds_m[prod]\n",
    "                interpret.append( [prod] + list(childs))\n",
    "                has_childs = True\n",
    "            else: interpret.append([prod])\n",
    "\n",
    "\n",
    "        if has_childs: \n",
    "            \n",
    "            # 'combinations' will contain a list of set. Each set is a possible reaction.\n",
    "            # For example, let 'interpret' be [[A, B], [C, D], [=], [E], [F, G]]\n",
    "            # then 'combinations' will be composed by 8 sets:\n",
    "            # [ (A, C, =, E, F), (A, C, =, E, G), \n",
    "            #   (A, D, =, E, F), (A, D, =, E, G), \n",
    "            #   (B, C, =, E, F), (B, C, =, E, G), \n",
    "            #   (B, D, =, E, F), (B, D, =, E, G) ]\n",
    "            # itertools.product() found at https://stackoverflow.com/a/798893\n",
    "            combinations = list(itertools.product(*interpret))\n",
    "\n",
    "            \n",
    "            # log completion status\n",
    "            print(f\"{round((index + 1) / len(reac_prop_simplyfied) * 100, 1)}%  ({len(combinations)}) ({rid})\", end='\\r')\n",
    "\n",
    "\n",
    "            # iterate each candidate reaction, to see if it already exists in the \n",
    "            # list of simplified reactions previously built. \n",
    "            for combination in combinations: \n",
    "\n",
    "                \n",
    "                # reconstruct a simplyfied reaction starting from this combination:\n",
    "                new_reacs = set()\n",
    "                new_prods  = set()\n",
    "                prods_switch = False\n",
    "                for i in combination:\n",
    "                    if i == '=': \n",
    "                        prods_switch = True\n",
    "                        continue\n",
    "                    if not prods_switch : # it's a reactant\n",
    "                        new_reacs.add(i)\n",
    "                    else: new_prods.add(i)\n",
    "\n",
    "                        \n",
    "                # search this simplyfied reaction in the set previously built: \n",
    "                match = get_match(new_reacs, new_prods, reac_prop_simplyfied)\n",
    "\n",
    "                \n",
    "                # if it exists, then populate the dictionary: \n",
    "                if match != None: \n",
    "                    if rid not in mnx_to_mnxchilds.keys(): \n",
    "                        mnx_to_mnxchilds[rid] = set()\n",
    "                    mnx_to_mnxchilds[rid].add(match)\n",
    "\n",
    "                    \n",
    "    return mnx_to_mnxchilds\n"
   ]
  },
  {
   "cell_type": "code",
   "execution_count": 9,
   "id": "7e6e2fd3-ab20-4e99-91f6-c2f71974ee57",
   "metadata": {},
   "outputs": [
    {
     "name": "stdout",
     "output_type": "stream",
     "text": [
      "100.0%  (3) (MNXR99990)))\r"
     ]
    }
   ],
   "source": [
    "# get the dictionary and save to disk:\n",
    "mnx_to_mnxchilds_r = get_mnx_to_mnxchilds(reac_prop_simplyfied, mnx_to_mnxchilds_m)\n",
    "with open(f'mnx_dicts_R/mnx_to_mnxchilds.pickle', 'wb') as handle:\n",
    "    pickle.dump(mnx_to_mnxchilds_r, handle)"
   ]
  },
  {
   "cell_type": "markdown",
   "id": "173ca96f-a3a9-498f-af50-e37f3f3c32ae",
   "metadata": {
    "tags": []
   },
   "source": [
    "# Part 2: extending  mnx reaction based on stereochemistry"
   ]
  },
  {
   "cell_type": "markdown",
   "id": "32ed972e-ef2f-40ec-aabf-d3fbf9b225d2",
   "metadata": {},
   "source": [
    "## load dicts"
   ]
  },
  {
   "cell_type": "code",
   "execution_count": 10,
   "id": "f264d11c-c525-4cd6-9088-587327bdd9b4",
   "metadata": {},
   "outputs": [],
   "source": [
    "with open(f'mnx_dicts_R/crossrefs.pickle', 'rb') as handle:\n",
    "    crossrefs = pickle.load(handle)"
   ]
  },
  {
   "cell_type": "code",
   "execution_count": 11,
   "id": "f7ef2141-4875-4ce1-95b3-3bed377edc28",
   "metadata": {},
   "outputs": [],
   "source": [
    "with open(f'mnx_dicts_R/bigg_to_others.pickle', 'rb') as handle:\n",
    "    bigg_to_others = pickle.load(handle)\n",
    "    \n",
    "with open(f'mnx_dicts_R/seed_to_others.pickle', 'rb') as handle:\n",
    "    seed_to_others = pickle.load(handle)"
   ]
  },
  {
   "cell_type": "code",
   "execution_count": 12,
   "id": "947e149d-8408-4b9c-bd51-c4bfbc296071",
   "metadata": {},
   "outputs": [],
   "source": [
    "with open(f'mnx_dicts_R/mnx_to_mnxchilds.pickle', 'rb') as handle:\n",
    "    mnx_to_mnxchilds = pickle.load(handle)\n"
   ]
  },
  {
   "cell_type": "markdown",
   "id": "bc285b2b-7c4c-4a69-b611-20362e322e16",
   "metadata": {},
   "source": [
    "\n",
    "## extend something_to_others"
   ]
  },
  {
   "cell_type": "code",
   "execution_count": 13,
   "id": "96850e4e-f3e3-4441-958d-e86ed96b47b8",
   "metadata": {},
   "outputs": [],
   "source": [
    "def extend_based_on_stereochemistry(something_to_others, mnx_to_mnxchilds, crossrefs, name):\n",
    "    \n",
    "    \n",
    "    # create a bigg/seed dictionary of reactions annotated taking into account also their 'child' reactions:\n",
    "    something_to_others_extended = copy.deepcopy(something_to_others)\n",
    "    \n",
    "    \n",
    "    # iterate each bigg/seed reaction ID: \n",
    "    for something_id in something_to_others.keys():    \n",
    "        for mnx_id in something_to_others[something_id]['metanetx.reaction']:\n",
    "            \n",
    "            \n",
    "            # get the 'child' reactions:\n",
    "            try: child_mnx_ids = mnx_to_mnxchilds[mnx_id]\n",
    "            # this reaction has no child \"iso\"reactions\n",
    "            except: continue\n",
    "            \n",
    "            \n",
    "            # iterate the 'child' reactions: \n",
    "            for child_mnx_id in child_mnx_ids:\n",
    "                \n",
    "                \n",
    "                # iterate all the available annotation databases:\n",
    "                for crossref in crossrefs.keys(): \n",
    "                \n",
    "                \n",
    "                    # populate with new annotations: \n",
    "                    try: annots = crossrefs[crossref][child_mnx_id]\n",
    "                    except: continue\n",
    "                    for annot in annots:\n",
    "                        something_to_others_extended[something_id][crossref].add(annot)\n",
    "                        \n",
    "             \n",
    "    # write to disk\n",
    "    with open(f'mnx_dicts_R/{name}.pickle', 'wb') as handle:\n",
    "        pickle.dump(something_to_others_extended, handle)\n",
    "            \n",
    "            \n",
    "    return something_to_others_extended"
   ]
  },
  {
   "cell_type": "code",
   "execution_count": 14,
   "id": "f3f8260b-7209-4cac-9fd3-211757cafb7c",
   "metadata": {},
   "outputs": [],
   "source": [
    "bigg_to_others_extended = extend_based_on_stereochemistry(bigg_to_others, mnx_to_mnxchilds, crossrefs, 'bigg_to_others_extended' )\n",
    "\n",
    "seed_to_others_extended = extend_based_on_stereochemistry(seed_to_others, mnx_to_mnxchilds, crossrefs, 'seed_to_others_extended' )"
   ]
  },
  {
   "cell_type": "markdown",
   "id": "eaad7658-5697-4130-9b15-edc181712457",
   "metadata": {},
   "source": [
    "## testing area\n"
   ]
  },
  {
   "cell_type": "code",
   "execution_count": 15,
   "id": "ac003fd3-c908-4477-a51e-0184c51883c0",
   "metadata": {},
   "outputs": [
    {
     "data": {
      "text/plain": [
       "{'kegg.reaction': {'R00303'},\n",
       " 'biocyc': {'RXN66-526'},\n",
       " 'seed.reaction': {'rxn00220'},\n",
       " 'bigg.reaction': {'G6PP', 'G6PPer', 'R_G6PP', 'R_G6PPer'},\n",
       " 'rhea': {'16689', '16690', '16691', '16692'},\n",
       " 'sabiork.reaction': {'7713', '796'},\n",
       " 'ec-code': {'3.1.3',\n",
       "  '3.1.3.1',\n",
       "  '3.1.3.104',\n",
       "  '3.1.3.2',\n",
       "  '3.1.3.23',\n",
       "  '3.1.3.25',\n",
       "  '3.1.3.29',\n",
       "  '3.1.3.58',\n",
       "  '3.1.3.9'},\n",
       " 'metanetx.reaction': {'MNXR195425'}}"
      ]
     },
     "execution_count": 15,
     "metadata": {},
     "output_type": "execute_result"
    }
   ],
   "source": [
    "bigg_to_others['G6PP']"
   ]
  },
  {
   "cell_type": "code",
   "execution_count": 16,
   "id": "e26cc8ff-f1a8-41ce-b3a4-a10f4da5c5ec",
   "metadata": {},
   "outputs": [
    {
     "data": {
      "text/plain": [
       "{'kegg.reaction': {'R00303', 'R01788'},\n",
       " 'biocyc': {'RXN-15312', 'RXN66-526'},\n",
       " 'seed.reaction': {'rxn00220', 'rxn15029', 'rxn15250', 'rxn19814', 'rxn31313'},\n",
       " 'bigg.reaction': {'G6PP', 'G6PPer', 'R_G6PP', 'R_G6PPer'},\n",
       " 'rhea': {'16689',\n",
       "  '16690',\n",
       "  '16691',\n",
       "  '16692',\n",
       "  '44904',\n",
       "  '44905',\n",
       "  '44906',\n",
       "  '44907'},\n",
       " 'sabiork.reaction': {'7713', '796'},\n",
       " 'ec-code': {'3.1.3',\n",
       "  '3.1.3.1',\n",
       "  '3.1.3.104',\n",
       "  '3.1.3.2',\n",
       "  '3.1.3.23',\n",
       "  '3.1.3.25',\n",
       "  '3.1.3.29',\n",
       "  '3.1.3.58',\n",
       "  '3.1.3.9'},\n",
       " 'metanetx.reaction': {'MNXR173089', 'MNXR192089', 'MNXR195425'}}"
      ]
     },
     "execution_count": 16,
     "metadata": {},
     "output_type": "execute_result"
    }
   ],
   "source": [
    "bigg_to_others_extended['G6PP']"
   ]
  },
  {
   "cell_type": "code",
   "execution_count": 17,
   "id": "052a4157-021d-42aa-978c-6a897d53052c",
   "metadata": {},
   "outputs": [
    {
     "data": {
      "text/plain": [
       "{'kegg.reaction': set(),\n",
       " 'biocyc': set(),\n",
       " 'seed.reaction': set(),\n",
       " 'bigg.reaction': {'PGMT', 'PGM_h', 'R_PGMT', 'R_PGM_h'},\n",
       " 'rhea': set(),\n",
       " 'sabiork.reaction': {'12817', '7674'},\n",
       " 'ec-code': {'5.4.2.2', '5.4.2.5', '5.4.2.8'},\n",
       " 'metanetx.reaction': {'MNXR192018'}}"
      ]
     },
     "execution_count": 17,
     "metadata": {},
     "output_type": "execute_result"
    }
   ],
   "source": [
    "bigg_to_others['PGMT']"
   ]
  },
  {
   "cell_type": "code",
   "execution_count": 18,
   "id": "06fca409-48df-46f7-8f86-cd0824fa351d",
   "metadata": {},
   "outputs": [
    {
     "data": {
      "text/plain": [
       "{'kegg.reaction': {'R00959', 'R02728', 'R08639', 'R11310'},\n",
       " 'biocyc': {'BETA-PHOSPHOGLUCOMUTASE-RXN', 'PHOSPHOGLUCMUT-RXN', 'RXN-16999'},\n",
       " 'seed.reaction': {'rxn00704',\n",
       "  'rxn01967',\n",
       "  'rxn12204',\n",
       "  'rxn15773',\n",
       "  'rxn20583',\n",
       "  'rxn33571',\n",
       "  'rxn33867'},\n",
       " 'bigg.reaction': {'PGCM',\n",
       "  'PGMT',\n",
       "  'PGMT_2',\n",
       "  'PGMT_B',\n",
       "  'PGMTh',\n",
       "  'PGM_h',\n",
       "  'R_PGCM',\n",
       "  'R_PGMT',\n",
       "  'R_PGMT_2',\n",
       "  'R_PGMT_B',\n",
       "  'R_PGMTh',\n",
       "  'R_PGM_h'},\n",
       " 'rhea': {'20113',\n",
       "  '20114',\n",
       "  '20115',\n",
       "  '20116',\n",
       "  '23536',\n",
       "  '23537',\n",
       "  '23538',\n",
       "  '23539'},\n",
       " 'sabiork.reaction': {'11', '12817', '2618', '7674', '9261'},\n",
       " 'ec-code': {'5.4.2.10', '5.4.2.2', '5.4.2.5', '5.4.2.6', '5.4.2.8'},\n",
       " 'metanetx.reaction': {'MNXR102549',\n",
       "  'MNXR136808',\n",
       "  'MNXR145962',\n",
       "  'MNXR145963',\n",
       "  'MNXR189257',\n",
       "  'MNXR192017',\n",
       "  'MNXR192018'}}"
      ]
     },
     "execution_count": 18,
     "metadata": {},
     "output_type": "execute_result"
    }
   ],
   "source": [
    "bigg_to_others_extended['PGMT']"
   ]
  },
  {
   "cell_type": "code",
   "execution_count": 23,
   "id": "b7c5843e-6dc5-420c-882a-0ff3d7e9f976",
   "metadata": {},
   "outputs": [
    {
     "data": {
      "text/plain": [
       "{'kegg.reaction': {'R00717'},\n",
       " 'biocyc': {'GLYCOLATE-REDUCTASE-RXN'},\n",
       " 'seed.reaction': {'rxn00512', 'rxn31400', 'rxn34300'},\n",
       " 'bigg.reaction': {'GLYCLTD_m', 'GLYCLTDx', 'R_GLYCLTD_m', 'R_GLYCLTDx'},\n",
       " 'rhea': {'18229', '18230', '18231', '18232'},\n",
       " 'sabiork.reaction': {'425'},\n",
       " 'ec-code': {'1.1.1.26',\n",
       "  '1.1.1.28',\n",
       "  '1.1.1.29',\n",
       "  '1.1.1.79',\n",
       "  '1.1.1.8',\n",
       "  '1.1.1.81',\n",
       "  '1.1.99.14'},\n",
       " 'metanetx.reaction': {'MNXR100331'}}"
      ]
     },
     "execution_count": 23,
     "metadata": {},
     "output_type": "execute_result"
    }
   ],
   "source": [
    "bigg_to_others['GLYCLTDx']"
   ]
  },
  {
   "cell_type": "code",
   "execution_count": 20,
   "id": "bcfbe534-63d6-42c5-928e-991cda32ec89",
   "metadata": {},
   "outputs": [
    {
     "data": {
      "text/plain": [
       "{'kegg.reaction': {'R00717'},\n",
       " 'biocyc': {'GLYCOLATE-REDUCTASE-RXN'},\n",
       " 'seed.reaction': {'rxn00512', 'rxn31400', 'rxn34300'},\n",
       " 'bigg.reaction': {'GLYCLTD_m', 'GLYCLTDx', 'R_GLYCLTD_m', 'R_GLYCLTDx'},\n",
       " 'rhea': {'18229', '18230', '18231', '18232'},\n",
       " 'sabiork.reaction': {'425'},\n",
       " 'ec-code': {'1.1.1.26',\n",
       "  '1.1.1.28',\n",
       "  '1.1.1.29',\n",
       "  '1.1.1.79',\n",
       "  '1.1.1.8',\n",
       "  '1.1.1.81',\n",
       "  '1.1.99.14'},\n",
       " 'metanetx.reaction': {'MNXR100331'}}"
      ]
     },
     "execution_count": 20,
     "metadata": {},
     "output_type": "execute_result"
    }
   ],
   "source": [
    "bigg_to_others_extended['GLYCLTDx']"
   ]
  },
  {
   "cell_type": "code",
   "execution_count": 21,
   "id": "2950b1c6-5927-4e1b-9426-311f073cf514",
   "metadata": {},
   "outputs": [
    {
     "data": {
      "text/plain": [
       "{'kegg.reaction': {'R01068', 'R01070'},\n",
       " 'biocyc': {'F16ALDOLASE-RXN'},\n",
       " 'seed.reaction': {'rxn00786',\n",
       "  'rxn15116',\n",
       "  'rxn19683',\n",
       "  'rxn27851',\n",
       "  'rxn31335',\n",
       "  'rxn38097'},\n",
       " 'bigg.reaction': set(),\n",
       " 'rhea': {'14729', '14730', '14731', '14732'},\n",
       " 'sabiork.reaction': {'1338', '3'},\n",
       " 'ec-code': {'4.1.2.13', '4.1.2.40'},\n",
       " 'metanetx.reaction': {'MNXR153519'}}"
      ]
     },
     "execution_count": 21,
     "metadata": {},
     "output_type": "execute_result"
    }
   ],
   "source": [
    "seed_to_others['rxn00786']"
   ]
  },
  {
   "cell_type": "code",
   "execution_count": 22,
   "id": "e4b9ddbd-9236-41af-b639-35168a9d6511",
   "metadata": {
    "tags": []
   },
   "outputs": [
    {
     "data": {
      "text/plain": [
       "{'kegg.reaction': {'R01068', 'R01070'},\n",
       " 'biocyc': {'F16ALDOLASE-RXN'},\n",
       " 'seed.reaction': {'rxn00786',\n",
       "  'rxn15116',\n",
       "  'rxn19683',\n",
       "  'rxn27851',\n",
       "  'rxn31335',\n",
       "  'rxn38097'},\n",
       " 'bigg.reaction': set(),\n",
       " 'rhea': {'14729', '14730', '14731', '14732'},\n",
       " 'sabiork.reaction': {'1338', '3'},\n",
       " 'ec-code': {'4.1.2.13', '4.1.2.40'},\n",
       " 'metanetx.reaction': {'MNXR153519'}}"
      ]
     },
     "execution_count": 22,
     "metadata": {},
     "output_type": "execute_result"
    }
   ],
   "source": [
    "seed_to_others_extended['rxn00786']"
   ]
  },
  {
   "cell_type": "code",
   "execution_count": null,
   "id": "a3cd26cb-c90b-43b8-95f9-5528d11879bb",
   "metadata": {},
   "outputs": [],
   "source": []
  }
 ],
 "metadata": {
  "kernelspec": {
   "display_name": "Python 3 (ipykernel)",
   "language": "python",
   "name": "python3"
  },
  "language_info": {
   "codemirror_mode": {
    "name": "ipython",
    "version": 3
   },
   "file_extension": ".py",
   "mimetype": "text/x-python",
   "name": "python",
   "nbconvert_exporter": "python",
   "pygments_lexer": "ipython3",
   "version": "3.9.15"
  }
 },
 "nbformat": 4,
 "nbformat_minor": 5
}
