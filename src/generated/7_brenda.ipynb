{
 "cells": [
  {
   "cell_type": "markdown",
   "id": "0ce5da26-3ad7-4a37-8844-0bcba261adc8",
   "metadata": {},
   "source": [
    "Downloaded from https://bkms.brenda-enzymes.org/download.php , release 2023.1 .\n",
    "Cliked on the disk icon. "
   ]
  },
  {
   "cell_type": "code",
   "execution_count": 1,
   "id": "d73fc596-d3be-45b2-86b4-a96168a4a472",
   "metadata": {},
   "outputs": [],
   "source": [
    "%%capture\n",
    "%%bash\n",
    "\n",
    "cd brenda/\n",
    "\n",
    "wget https://bkms.brenda-enzymes.org/download/Reactions_BKMS.tar.gz\n",
    "\n",
    "tar -xzvf Reactions_BKMS.tar.gz\n",
    "\n",
    "rm Reactions_BKMS.tar.gz"
   ]
  },
  {
   "cell_type": "code",
   "execution_count": 1,
   "id": "aea25f56-2b61-45e6-9593-0a70a0ce4945",
   "metadata": {},
   "outputs": [
    {
     "data": {
      "text/html": [
       "<div>\n",
       "<style scoped>\n",
       "    .dataframe tbody tr th:only-of-type {\n",
       "        vertical-align: middle;\n",
       "    }\n",
       "\n",
       "    .dataframe tbody tr th {\n",
       "        vertical-align: top;\n",
       "    }\n",
       "\n",
       "    .dataframe thead th {\n",
       "        text-align: right;\n",
       "    }\n",
       "</style>\n",
       "<table border=\"1\" class=\"dataframe\">\n",
       "  <thead>\n",
       "    <tr style=\"text-align: right;\">\n",
       "      <th></th>\n",
       "      <th>EC_Number</th>\n",
       "      <th>Reaction_ID_BRENDA</th>\n",
       "      <th>Reaction_ID_KEGG</th>\n",
       "      <th>Reaction_ID_MetaCyc</th>\n",
       "      <th>Reaction_ID_SABIO_RK</th>\n",
       "    </tr>\n",
       "    <tr>\n",
       "      <th>ID</th>\n",
       "      <th></th>\n",
       "      <th></th>\n",
       "      <th></th>\n",
       "      <th></th>\n",
       "      <th></th>\n",
       "    </tr>\n",
       "  </thead>\n",
       "  <tbody>\n",
       "    <tr>\n",
       "      <th>1</th>\n",
       "      <td>5.3.3.3</td>\n",
       "      <td>BR1</td>\n",
       "      <td>R03031</td>\n",
       "      <td>VINYLACETYL-COA-DELTA-ISOMERASE-RXN</td>\n",
       "      <td>NaN</td>\n",
       "    </tr>\n",
       "    <tr>\n",
       "      <th>2</th>\n",
       "      <td>6.3.2.1</td>\n",
       "      <td>BR101</td>\n",
       "      <td>R02473</td>\n",
       "      <td>PANTOATE-BETA-ALANINE-LIG-RXN</td>\n",
       "      <td>2406</td>\n",
       "    </tr>\n",
       "    <tr>\n",
       "      <th>3</th>\n",
       "      <td>6.3.2.10</td>\n",
       "      <td>BR102</td>\n",
       "      <td>R04573</td>\n",
       "      <td>6.3.2.10-RXN</td>\n",
       "      <td>4244</td>\n",
       "    </tr>\n",
       "    <tr>\n",
       "      <th>4</th>\n",
       "      <td>6.3.2.4</td>\n",
       "      <td>BR102</td>\n",
       "      <td>R04573</td>\n",
       "      <td>6.3.2.10-RXN</td>\n",
       "      <td>4244</td>\n",
       "    </tr>\n",
       "    <tr>\n",
       "      <th>5</th>\n",
       "      <td>6.3.2.11</td>\n",
       "      <td>BR103</td>\n",
       "      <td>R01164</td>\n",
       "      <td>CARNOSINE-SYNTHASE-RXN</td>\n",
       "      <td>NaN</td>\n",
       "    </tr>\n",
       "  </tbody>\n",
       "</table>\n",
       "</div>"
      ],
      "text/plain": [
       "   EC_Number Reaction_ID_BRENDA Reaction_ID_KEGG   \n",
       "ID                                                 \n",
       "1    5.3.3.3                BR1           R03031  \\\n",
       "2    6.3.2.1              BR101           R02473   \n",
       "3   6.3.2.10              BR102           R04573   \n",
       "4    6.3.2.4              BR102           R04573   \n",
       "5   6.3.2.11              BR103           R01164   \n",
       "\n",
       "                    Reaction_ID_MetaCyc Reaction_ID_SABIO_RK  \n",
       "ID                                                            \n",
       "1   VINYLACETYL-COA-DELTA-ISOMERASE-RXN                  NaN  \n",
       "2         PANTOATE-BETA-ALANINE-LIG-RXN                 2406  \n",
       "3                          6.3.2.10-RXN                 4244  \n",
       "4                          6.3.2.10-RXN                 4244  \n",
       "5                CARNOSINE-SYNTHASE-RXN                  NaN  "
      ]
     },
     "execution_count": 1,
     "metadata": {},
     "output_type": "execute_result"
    }
   ],
   "source": [
    "import pandas as pnd\n",
    "\n",
    "table = pnd.read_csv('brenda/Reactions_BKMS.csv', sep='\\t', low_memory=False)\n",
    "table = table.set_index('ID', drop=True, verify_integrity=True)\n",
    "\n",
    "# useful columns are : ìEC_Number', 'Reaction_ID_BRENDA', 'Reaction_ID_KEGG', 'Reaction_ID_MetaCyc', 'Reaction_ID_SABIO_RK' \n",
    "table = table [['EC_Number', 'Reaction_ID_BRENDA', 'Reaction_ID_KEGG', 'Reaction_ID_MetaCyc', 'Reaction_ID_SABIO_RK']]\n",
    "table.head()"
   ]
  },
  {
   "cell_type": "markdown",
   "id": "305e2f7a-e319-4772-b683-b57bb89a9761",
   "metadata": {},
   "source": [
    "## make something_to_brenda (biochemistry)\n"
   ]
  },
  {
   "cell_type": "code",
   "execution_count": 2,
   "id": "7cd99585-4e27-4eaa-bfb0-429c08fafd08",
   "metadata": {},
   "outputs": [],
   "source": [
    "ec_to_brenda = {}\n",
    "\n",
    "for index, row in table.iterrows(): \n",
    "    if type(row['EC_Number']) == str and type(row['Reaction_ID_BRENDA']) == str:  # exclude nan (empty) cells:\n",
    "        for j in row['EC_Number'].split(','):\n",
    "            if j not in ec_to_brenda.keys(): \n",
    "                ec_to_brenda[j] = set()\n",
    "            for i in  row['Reaction_ID_BRENDA'].split(','):\n",
    "                ec_to_brenda[j].add( i)\n",
    "                "
   ]
  },
  {
   "cell_type": "code",
   "execution_count": 3,
   "id": "d7b7fb8d-d94d-4f06-8723-cfab889ca2b9",
   "metadata": {},
   "outputs": [],
   "source": [
    "kegg_to_brenda = {}\n",
    "\n",
    "for index, row in table.iterrows(): \n",
    "    if type(row['Reaction_ID_KEGG']) == str and type(row['Reaction_ID_BRENDA']) == str:  # exclude nan (empty) cells:\n",
    "        for j in row['Reaction_ID_KEGG'].split(','):\n",
    "            if j not in kegg_to_brenda.keys(): \n",
    "                kegg_to_brenda[j] = set()\n",
    "            for i in  row['Reaction_ID_BRENDA'].split(','):\n",
    "                kegg_to_brenda[j].add( i)\n",
    "                "
   ]
  },
  {
   "cell_type": "code",
   "execution_count": 4,
   "id": "572288c3-0b06-4269-a215-6d4d67c06450",
   "metadata": {},
   "outputs": [],
   "source": [
    "metacyc_to_brenda = {}\n",
    "\n",
    "for index, row in table.iterrows(): \n",
    "    if type(row['Reaction_ID_MetaCyc']) == str and type(row['Reaction_ID_BRENDA']) == str:  # exclude nan (empty) cells:\n",
    "        for j in row['Reaction_ID_MetaCyc'].split(','):\n",
    "            if j not in metacyc_to_brenda.keys(): \n",
    "                metacyc_to_brenda[j] = set()\n",
    "            for i in  row['Reaction_ID_BRENDA'].split(','):\n",
    "                metacyc_to_brenda[j].add( i)\n",
    "                "
   ]
  },
  {
   "cell_type": "code",
   "execution_count": 5,
   "id": "5ca0d601-01f4-4c8b-b33f-2a43c81672a7",
   "metadata": {},
   "outputs": [],
   "source": [
    "sabiork_to_brenda = {} \n",
    "\n",
    "for index, row in table.iterrows(): \n",
    "    if type(row['Reaction_ID_SABIO_RK']) == str and type(row['Reaction_ID_BRENDA']) == str:  # exclude nan (empty) cells:  \n",
    "        for j in row['Reaction_ID_SABIO_RK'].split(','):\n",
    "            if j not in sabiork_to_brenda.keys(): \n",
    "                sabiork_to_brenda[j] = set()\n",
    "            for i in  row['Reaction_ID_BRENDA'].split(','):\n",
    "                sabiork_to_brenda[j].add( i)\n",
    "              "
   ]
  },
  {
   "cell_type": "code",
   "execution_count": 6,
   "id": "f993e593-2f93-4c17-aa27-2b359bb80fd5",
   "metadata": {},
   "outputs": [],
   "source": [
    "import copy\n",
    "import pickle\n",
    "\n",
    "\n",
    "def extend_with_brenda(something_to_others, ec_to_brenda, kegg_to_brenda, metacyc_to_brenda, table):\n",
    "\n",
    "    something_to_others_basename = something_to_others\n",
    "    \n",
    "    # read something_to_others\n",
    "    with open(f'reactome_dicts/{something_to_others}.pickle', 'rb') as handler:\n",
    "        something_to_others = pickle.load(handler)\n",
    "\n",
    "\n",
    "    something_to_others_brenda = copy.deepcopy(something_to_others)\n",
    "    for something_id in something_to_others.keys():  # something_id = bigg or seed ID.\n",
    "        something_to_others_brenda[something_id]['brenda.biochemistry'] = set()\n",
    "        \n",
    "        # for 'brenda.biochemistry', hook to EC, KEGG, MetaCyc, SabioRK.\n",
    "        # EC:\n",
    "        for ec_code in something_to_others[something_id]['ec-code']:\n",
    "            try:  \n",
    "                brenda_ids = ec_to_brenda[ec_code]\n",
    "                for brenda_id in brenda_ids:\n",
    "                    something_to_others_brenda[something_id]['brenda.biochemistry'].add(brenda_id)\n",
    "            except:  \n",
    "                continue\n",
    "        # KEGG:\n",
    "        for kegg_code in something_to_others[something_id]['kegg.reaction']:\n",
    "            try:  \n",
    "                brenda_ids = kegg_to_brenda[kegg_code]\n",
    "                for brenda_id in brenda_ids:\n",
    "                    something_to_others_brenda[something_id]['brenda.biochemistry'].add(brenda_id)\n",
    "            except:  \n",
    "                continue\n",
    "        # MetaCyc:\n",
    "        for matacyc_code in something_to_others[something_id]['biocyc']:\n",
    "            try:  \n",
    "                brenda_ids = metacyc_to_brenda[matacyc_code]\n",
    "                for brenda_id in brenda_ids:\n",
    "                    something_to_others_brenda[something_id]['brenda.biochemistry'].add(brenda_id)\n",
    "            except:  \n",
    "                continue\n",
    "        # SabioRK:\n",
    "        for sabiork_code in something_to_others[something_id]['sabiork.reaction']:\n",
    "            try:  \n",
    "                brenda_ids = sabiork_to_brenda[sabiork_code]\n",
    "                for brenda_id in brenda_ids:\n",
    "                    something_to_others_brenda[something_id]['brenda.biochemistry'].add(brenda_id)\n",
    "            except:  \n",
    "                continue\n",
    "                \n",
    "\n",
    "    # create a set of all the ECs appearing also in brenda.\n",
    "    ec_in_brenda = set()   \n",
    "    for i in table['EC_Number'].to_list():\n",
    "        if type(i) == str: \n",
    "            for ec_code in i.split(','):\n",
    "                ec_in_brenda.add(ec_code)\n",
    "                \n",
    "    # for 'brenda', hook to EC:\n",
    "    for something_id in something_to_others.keys():  # something_id = bigg or seed ID.\n",
    "        something_to_others_brenda[something_id]['brenda'] = set()\n",
    "        \n",
    "        for ec_code in something_to_others[something_id]['ec-code']:\n",
    "            if ec_code in ec_in_brenda:  # check if this already annotated EC is appearing also in brenda.\n",
    "                something_to_others_brenda[something_id]['brenda'].add(ec_code)\n",
    "      \n",
    "                \n",
    "    # save sopmething to others extended with pubchem\n",
    "    with open(f'brenda_dicts/{something_to_others_basename}.pickle', 'wb') as handle:\n",
    "        pickle.dump(something_to_others_brenda, handle)\n",
    "    \n",
    "    \n",
    "    return something_to_others_brenda\n",
    "    "
   ]
  },
  {
   "cell_type": "code",
   "execution_count": 7,
   "id": "c0553544-5fbd-405c-acbc-e4e04c553e61",
   "metadata": {
    "tags": []
   },
   "outputs": [],
   "source": [
    "\n",
    "bigg_to_others =           extend_with_brenda('bigg_to_others', ec_to_brenda, kegg_to_brenda, metacyc_to_brenda, table)\n",
    "bigg_to_others_extended =  extend_with_brenda('bigg_to_others_extended', ec_to_brenda, kegg_to_brenda, metacyc_to_brenda, table)\n",
    "seed_to_others =           extend_with_brenda('seed_to_others', ec_to_brenda, kegg_to_brenda, metacyc_to_brenda, table)\n",
    "seed_to_others_extended =  extend_with_brenda('seed_to_others_extended', ec_to_brenda, kegg_to_brenda, metacyc_to_brenda, table)"
   ]
  },
  {
   "cell_type": "markdown",
   "id": "7fdce134-0898-4aad-96be-5b04ada8410b",
   "metadata": {},
   "source": [
    "## testing area"
   ]
  },
  {
   "cell_type": "code",
   "execution_count": 9,
   "id": "584b4d69-4eba-4f3d-9656-deff368a136f",
   "metadata": {},
   "outputs": [
    {
     "data": {
      "text/plain": [
       "{'kegg.reaction': {'R00243'},\n",
       " 'biocyc': {'GLUTAMATE-DEHYDROGENASE-RXN'},\n",
       " 'seed.reaction': {'rxn00182', 'rxn19827', 'rxn30075', 'rxn34790', 'rxn34793'},\n",
       " 'bigg.reaction': {'GDH',\n",
       "  'GDH1',\n",
       "  'GDHm',\n",
       "  'GLUDxi',\n",
       "  'R_GDH',\n",
       "  'R_GDH1',\n",
       "  'R_GDHm',\n",
       "  'R_GLUDxi'},\n",
       " 'rhea': {'15133', '15134', '15135', '15136'},\n",
       " 'sabiork.reaction': {'755'},\n",
       " 'ec-code': {'1.4.1.14', '1.4.1.2', '1.4.1.3', '1.4.1.4'},\n",
       " 'metanetx.reaction': {'MNXR144972'},\n",
       " 'reactome': {'R-HSA-70589.5', 'R-HSA-70600.5'},\n",
       " 'brenda.biochemistry': {'BR22683',\n",
       "  'BR33794',\n",
       "  'BR36862',\n",
       "  'BR36868',\n",
       "  'BR36869',\n",
       "  'BR36871',\n",
       "  'BR47378',\n",
       "  'BR48399',\n",
       "  'BR48399_WOP',\n",
       "  'BR50099',\n",
       "  'BS232308',\n",
       "  'BS258944',\n",
       "  'BS397591_WOP',\n",
       "  'BS408366'},\n",
       " 'brenda': {'1.4.1.14', '1.4.1.2', '1.4.1.3', '1.4.1.4'}}"
      ]
     },
     "execution_count": 9,
     "metadata": {},
     "output_type": "execute_result"
    }
   ],
   "source": [
    "bigg_to_others['GDH']"
   ]
  },
  {
   "cell_type": "code",
   "execution_count": 11,
   "id": "9266fcb2-e9f4-4abb-8ce4-384722e6cba9",
   "metadata": {},
   "outputs": [
    {
     "data": {
      "text/plain": [
       "{'kegg.reaction': {'R00243'},\n",
       " 'biocyc': {'GLUTAMATE-DEHYDROGENASE-RXN'},\n",
       " 'seed.reaction': {'rxn00182', 'rxn19827', 'rxn30075', 'rxn34790', 'rxn34793'},\n",
       " 'bigg.reaction': {'GDH',\n",
       "  'GDH1',\n",
       "  'GDHm',\n",
       "  'GLUDxi',\n",
       "  'R_GDH',\n",
       "  'R_GDH1',\n",
       "  'R_GDHm',\n",
       "  'R_GLUDxi'},\n",
       " 'rhea': {'15133', '15134', '15135', '15136'},\n",
       " 'sabiork.reaction': {'755'},\n",
       " 'ec-code': {'1.4.1.14', '1.4.1.2', '1.4.1.3', '1.4.1.4'},\n",
       " 'metanetx.reaction': {'MNXR144972'},\n",
       " 'reactome': {'R-HSA-70589.5', 'R-HSA-70600.5'},\n",
       " 'brenda.biochemistry': {'BR22683',\n",
       "  'BR33794',\n",
       "  'BR36862',\n",
       "  'BR36868',\n",
       "  'BR36869',\n",
       "  'BR36871',\n",
       "  'BR47378',\n",
       "  'BR48399',\n",
       "  'BR48399_WOP',\n",
       "  'BR50099',\n",
       "  'BS232308',\n",
       "  'BS258944',\n",
       "  'BS397591_WOP',\n",
       "  'BS408366'},\n",
       " 'brenda': {'1.4.1.14', '1.4.1.2', '1.4.1.3', '1.4.1.4'}}"
      ]
     },
     "execution_count": 11,
     "metadata": {},
     "output_type": "execute_result"
    }
   ],
   "source": [
    "\n",
    "seed_to_others_extended['rxn19827']"
   ]
  },
  {
   "cell_type": "code",
   "execution_count": null,
   "id": "72c47fd9-a05f-41c5-ab42-d7c0f87e1824",
   "metadata": {},
   "outputs": [],
   "source": []
  }
 ],
 "metadata": {
  "kernelspec": {
   "display_name": "Python 3 (ipykernel)",
   "language": "python",
   "name": "python3"
  },
  "language_info": {
   "codemirror_mode": {
    "name": "ipython",
    "version": 3
   },
   "file_extension": ".py",
   "mimetype": "text/x-python",
   "name": "python",
   "nbconvert_exporter": "python",
   "pygments_lexer": "ipython3",
   "version": "3.9.15"
  }
 },
 "nbformat": 4,
 "nbformat_minor": 5
}
