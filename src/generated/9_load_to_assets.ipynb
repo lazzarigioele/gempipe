{
 "cells": [
  {
   "cell_type": "code",
   "execution_count": null,
   "id": "78403879-195b-4c96-b9e7-85a7bf5d8ae4",
   "metadata": {},
   "outputs": [
    {
     "name": "stdout",
     "output_type": "stream",
     "text": [
      "/home/jovyan/work/src/generated\n"
     ]
    }
   ],
   "source": [
    "%%bash\n",
    "pwd"
   ]
  },
  {
   "cell_type": "code",
   "execution_count": null,
   "id": "83be73ff-2b6a-4490-802f-067ee7fbc942",
   "metadata": {},
   "outputs": [
    {
     "name": "stdout",
     "output_type": "stream",
     "text": [
      "OK\n"
     ]
    }
   ],
   "source": [
    "import shutil\n",
    "\n",
    "# metabolite/reactions annotations\n",
    "\n",
    "shutil.copyfile('pubchem_dicts/bigg_to_others.pickle', '../gempipe/assets/bigg_to_others_M.pickle')\n",
    "shutil.copyfile('pubchem_dicts/bigg_to_others_extended.pickle', '../gempipe/assets/bigg_to_others_extended_M.pickle')\n",
    "shutil.copyfile('pubchem_dicts/seed_to_others.pickle', '../gempipe/assets/seed_to_others_M.pickle')\n",
    "shutil.copyfile('pubchem_dicts/seed_to_others_extended.pickle', '../gempipe/assets/seed_to_others_extended_M.pickle')\n",
    "\n",
    "shutil.copyfile('brenda_dicts/bigg_to_others.pickle', '../gempipe/assets/bigg_to_others_R.pickle')\n",
    "shutil.copyfile('brenda_dicts/bigg_to_others_extended.pickle', '../gempipe/assets/bigg_to_others_extended_R.pickle')\n",
    "shutil.copyfile('brenda_dicts/seed_to_others.pickle', '../gempipe/assets/seed_to_others_R.pickle')\n",
    "shutil.copyfile('brenda_dicts/seed_to_others_extended.pickle', '../gempipe/assets/seed_to_others_extended_R.pickle')\n",
    "\n",
    "# TCDB\n",
    "\n",
    "shutil.copyfile('tcdb_generated/tcdb_gprs.csv', '../gempipe/assets/tcdb_gprs.csv')\n",
    "shutil.copyfile('tcdb_generated/tcdb_rs.csv', '../gempipe/assets/tcdb_rs.csv')\n",
    "shutil.copyfile('tcdb_generated/tcdb_2024_04_08_formatted.dmnd', '../gempipe/assets/tcdb_proteins.dmnd')\n",
    "\n",
    "print('OK')"
   ]
  }
 ],
 "metadata": {
  "kernelspec": {
   "display_name": "Python 3 (ipykernel)",
   "language": "python",
   "name": "python3"
  },
  "language_info": {
   "codemirror_mode": {
    "name": "ipython",
    "version": 3
   },
   "file_extension": ".py",
   "mimetype": "text/x-python",
   "name": "python",
   "nbconvert_exporter": "python",
   "pygments_lexer": "ipython3",
   "version": "3.9.15"
  }
 },
 "nbformat": 4,
 "nbformat_minor": 5
}
