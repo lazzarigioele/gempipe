{
 "cells": [
  {
   "cell_type": "markdown",
   "id": "e5dc599b-b1cf-4f25-ba11-36ed1940d64d",
   "metadata": {
    "tags": []
   },
   "source": [
    "# Part 1: Parsing of mnx metabolite"
   ]
  },
  {
   "cell_type": "code",
   "execution_count": 1,
   "id": "c0531780-653e-4653-932d-ac132230a007",
   "metadata": {},
   "outputs": [
    {
     "name": "stdout",
     "output_type": "stream",
     "text": [
      "/home/jovyan/work/src/generated\n"
     ]
    }
   ],
   "source": [
    "%%bash\n",
    "pwd"
   ]
  },
  {
   "cell_type": "code",
   "execution_count": 2,
   "id": "62411456-54c5-4316-806f-8e9e49f3a9b8",
   "metadata": {
    "tags": [
     "remove-cell"
    ]
   },
   "outputs": [],
   "source": [
    "import pandas as pnd\n",
    "import pickle \n",
    "import copy\n",
    "import os"
   ]
  },
  {
   "cell_type": "code",
   "execution_count": 3,
   "id": "928d0a58-43fe-4f2c-a3cf-76519440ad0b",
   "metadata": {},
   "outputs": [],
   "source": [
    "header_chem_prop = ['ID', 'name', 'reference', 'formula', 'charge', 'mass', 'InChI', 'InChIKey', 'SMILES']\n",
    "chem_prop = pnd.read_csv('metanetx_4_4/chem_prop.tsv', sep='\\t', comment='#', header=None, names=header_chem_prop)\n",
    "chem_prop.set_index('ID', drop=True, inplace=True, verify_integrity=True)"
   ]
  },
  {
   "cell_type": "code",
   "execution_count": 4,
   "id": "7cd44b6c-e624-4304-9bb6-da291fdd8ab0",
   "metadata": {},
   "outputs": [],
   "source": [
    "header_chem_xref = ['source', 'ID', 'description']\n",
    "chem_xref = pnd.read_csv('metanetx_4_4/chem_xref.tsv', sep='\\t', comment='#', header=None, names=header_chem_xref)\n",
    "# not need to set the index here"
   ]
  },
  {
   "cell_type": "code",
   "execution_count": 5,
   "id": "6539647c-8ba4-43bd-ae51-bbc10c8beb86",
   "metadata": {},
   "outputs": [],
   "source": [
    "# prepare output directories\n",
    "os.makedirs('mnx_dicts_M/', exist_ok=True)"
   ]
  },
  {
   "cell_type": "markdown",
   "id": "2638dfdf-e0d1-41da-b48a-e4d928f0d10c",
   "metadata": {},
   "source": [
    "## mnx_to_something dict creation"
   ]
  },
  {
   "cell_type": "code",
   "execution_count": 6,
   "id": "1c37e880-341e-4050-8d0b-909806fa536e",
   "metadata": {},
   "outputs": [],
   "source": [
    "def create_mnx_to_something_dict(chem_xref, key):\n",
    "    \n",
    "    # parse the table\n",
    "    mnx_to_something = {}\n",
    "    for index, row in chem_xref.iterrows():\n",
    "        \n",
    "        \n",
    "        # check is the 'source' begins with the given key: \n",
    "        if row.source.startswith(key):\n",
    "            something_id = row.source[len(key): ]  # id to the specific db.\n",
    "            mnx_id = row.ID  # get the corresponding mnx id.\n",
    "            \n",
    "            \n",
    "            # populate the dictionary: \n",
    "            if mnx_id not in mnx_to_something.keys():\n",
    "                mnx_to_something[mnx_id] = set()\n",
    "            mnx_to_something[mnx_id].add(something_id)\n",
    "            \n",
    "    \n",
    "    # write to disk\n",
    "    name = key[:-1]  # avoid the ':'\n",
    "    with open(f'mnx_dicts_M/{name}.pickle', 'wb') as handle:\n",
    "        pickle.dump(mnx_to_something, handle)\n",
    "        \n",
    "        \n",
    "    return mnx_to_something\n"
   ]
  },
  {
   "cell_type": "code",
   "execution_count": 7,
   "id": "e1da95fd-f58a-46e1-87d6-85d63ddabadb",
   "metadata": {},
   "outputs": [],
   "source": [
    "\n",
    "mnx_to_kegg_compound = create_mnx_to_something_dict(chem_xref, 'kegg.compound:') \n",
    "mnx_to_kegg_drug = create_mnx_to_something_dict(chem_xref, 'kegg.drug:') \n",
    "mnx_to_kegg_glycan = create_mnx_to_something_dict(chem_xref, 'kegg.glycan:') \n",
    "mnx_to_metacyc = create_mnx_to_something_dict(chem_xref, 'metacyc.compound:')\n",
    "mnx_to_hmdb = create_mnx_to_something_dict(chem_xref, 'hmdb:')\n",
    "mnx_to_bigg = create_mnx_to_something_dict(chem_xref, 'bigg.metabolite:')\n",
    "mnx_to_seed = create_mnx_to_something_dict(chem_xref, 'seed.compound:')\n",
    "mnx_to_chebi = create_mnx_to_something_dict(chem_xref, 'chebi:')\n",
    "mnx_to_sabiork = create_mnx_to_something_dict(chem_xref, 'sabiork.compound:')\n",
    "mnx_to_lipidmaps = create_mnx_to_something_dict(chem_xref, 'lipidmaps:')\n",
    "mnx_to_envipath = create_mnx_to_something_dict(chem_xref, 'envipath:')\n",
    "mnx_to_reactome = create_mnx_to_something_dict(chem_xref, 'reactome:')\n",
    "mnx_to_rhea_g = create_mnx_to_something_dict(chem_xref, 'rheaG:')\n",
    "mnx_to_rhea_p = create_mnx_to_something_dict(chem_xref, 'rheaP:')\n",
    "mnx_to_swisslipids = create_mnx_to_something_dict(chem_xref, 'slm:')\n"
   ]
  },
  {
   "cell_type": "code",
   "execution_count": 8,
   "id": "e87398f8-c6d8-4d30-aabe-162660f1ccb6",
   "metadata": {},
   "outputs": [],
   "source": [
    "# create auxiliary dictionaries for the attributes recorded in chem_prop\n",
    "def create_aux_dict(chem_prop, key) :\n",
    "    \n",
    "    \n",
    "    # parse the table\n",
    "    mnx_to_something = {}\n",
    "    for mnx_id, row in chem_prop.iterrows():\n",
    "        \n",
    "        \n",
    "        # poulate the dictionary: \n",
    "        if mnx_id not in mnx_to_something.keys(): \n",
    "            mnx_to_something[mnx_id] = set() \n",
    "        something = row[key]\n",
    "        if type(something) == str: \n",
    "            mnx_to_something[mnx_id].add(something)\n",
    "\n",
    "    \n",
    "    # write to disk\n",
    "    name = key.lower()\n",
    "    with open(f'mnx_dicts_M/{name}.pickle', 'wb') as handle:\n",
    "        pickle.dump(mnx_to_something, handle)\n",
    "        \n",
    "    \n",
    "    return mnx_to_something\n"
   ]
  },
  {
   "cell_type": "code",
   "execution_count": 9,
   "id": "505b41fc-a39a-4dc7-8952-22326c49e892",
   "metadata": {},
   "outputs": [],
   "source": [
    "mnx_to_inchi = create_aux_dict( chem_prop, 'InChI')\n",
    "mnx_to_inchikey = create_aux_dict( chem_prop, 'InChIKey')\n",
    "mnx_to_smiles = create_aux_dict( chem_prop, 'SMILES')"
   ]
  },
  {
   "cell_type": "code",
   "execution_count": 10,
   "id": "f2edaade-1b09-4eeb-88ca-48bdcb7a3dcc",
   "metadata": {},
   "outputs": [],
   "source": [
    "# keys pointing to themseves, gaining also this annotation\n",
    "def create_mnx_to_mnx_dict(chem_prop): \n",
    "    \n",
    "    \n",
    "    # parse the table\n",
    "    mnx_to_mnx = {}\n",
    "    for mnx_id, row in chem_prop.iterrows():\n",
    "        if mnx_id not in mnx_to_mnx.keys(): \n",
    "            mnx_to_mnx[mnx_id] = set() \n",
    "        mnx_to_mnx[mnx_id].add(mnx_id)\n",
    "        \n",
    "    \n",
    "    # write to disk:\n",
    "    with open(f'mnx_dicts_M/mnx_to_mnx.pickle', 'wb') as handle:\n",
    "        pickle.dump(mnx_to_mnx, handle)\n",
    "        \n",
    "        \n",
    "    return mnx_to_mnx"
   ]
  },
  {
   "cell_type": "code",
   "execution_count": 11,
   "id": "5e1c7940-d470-4eaa-a60e-011b80434c37",
   "metadata": {},
   "outputs": [],
   "source": [
    "mnx_to_mnx = create_mnx_to_mnx_dict(chem_prop)"
   ]
  },
  {
   "cell_type": "markdown",
   "id": "76bb2c6a-c2ba-4c5a-a7f5-e7b740c26b60",
   "metadata": {},
   "source": [
    "## crossrefs creation"
   ]
  },
  {
   "cell_type": "code",
   "execution_count": 12,
   "id": "7d430ce4-3643-45b3-9678-25c6fbaccbef",
   "metadata": {},
   "outputs": [],
   "source": [
    "crossrefs = {\n",
    "    'kegg.compound': mnx_to_kegg_compound, \n",
    "    'kegg.drug': mnx_to_kegg_drug, \n",
    "    'kegg.glycan': mnx_to_kegg_glycan, \n",
    "    'biocyc': mnx_to_metacyc, \n",
    "    'hmdb': mnx_to_hmdb,\n",
    "    'bigg.metabolite': mnx_to_bigg, \n",
    "    'seed.compound': mnx_to_seed, \n",
    "    'chebi': mnx_to_chebi, \n",
    "    'sabiork': mnx_to_sabiork, \n",
    "    'lipidmaps': mnx_to_lipidmaps, \n",
    "    'envipath': mnx_to_envipath, \n",
    "    'reactome': mnx_to_reactome, \n",
    "    'rhea_g': mnx_to_rhea_g, \n",
    "    'rhea_p': mnx_to_rhea_p, \n",
    "    'swisslipids': mnx_to_swisslipids, \n",
    "    'inchi': mnx_to_inchi, \n",
    "    'inchikey': mnx_to_inchikey, \n",
    "    'smiles': mnx_to_smiles, \n",
    "    'metanetx.chemical': mnx_to_mnx, \n",
    "}\n",
    "\n",
    "with open(f'mnx_dicts_M/crossrefs.pickle', 'wb') as handle:\n",
    "    pickle.dump(crossrefs, handle)"
   ]
  },
  {
   "cell_type": "markdown",
   "id": "42ad9439-7070-4423-88ae-091174efaf3c",
   "metadata": {},
   "source": [
    "# Part 2: bigg/seed to others dict creation"
   ]
  },
  {
   "cell_type": "code",
   "execution_count": 13,
   "id": "201b44de-d0dd-40c0-a494-badb6f857afd",
   "metadata": {},
   "outputs": [],
   "source": [
    "\n",
    "with open(f'mnx_dicts_M/crossrefs.pickle', 'rb') as handle:\n",
    "    crossrefs = pickle.load(handle)"
   ]
  },
  {
   "cell_type": "code",
   "execution_count": 14,
   "id": "855266f8-d00e-457e-aae7-f4dc4798858c",
   "metadata": {},
   "outputs": [],
   "source": [
    "def create_something_to_others_dict(chem_xref, key, crossrefs, name,  ):\n",
    "\n",
    "    \n",
    "    # create a dictionary converting a bigg/seed metabolite to all the others dbs\n",
    "    something_to_others = {}\n",
    "    for index, row in chem_xref.iterrows(): \n",
    "    \n",
    "    \n",
    "        # populate the dictionary\n",
    "        if row.source.startswith(key): \n",
    "            something_id = row.source[len(key):]\n",
    "            mnx_id = row.ID\n",
    "            if something_id not in something_to_others.keys(): \n",
    "                something_to_others[something_id] = {}\n",
    "            \n",
    "            \n",
    "            # iterate all the databases:  \n",
    "            for crossref in crossrefs.keys(): \n",
    "                something_to_others[something_id][crossref] = set()\n",
    "                try: annots = crossrefs[crossref][mnx_id]\n",
    "                # no annotations for this mnx_id for this external database\n",
    "                except: continue\n",
    "                for annot in annots:\n",
    "                    something_to_others[something_id][crossref].add(annot)\n",
    "    \n",
    "    \n",
    "    # write to disk\n",
    "    with open(f'mnx_dicts_M/{name}.pickle', 'wb') as handle:\n",
    "        pickle.dump(something_to_others, handle)\n",
    "    \n",
    "    \n",
    "    return something_to_others"
   ]
  },
  {
   "cell_type": "code",
   "execution_count": 15,
   "id": "a3f904b0-1485-426e-983f-a3638af17b31",
   "metadata": {},
   "outputs": [],
   "source": [
    "bigg_to_others = create_something_to_others_dict( chem_xref, 'bigg.metabolite:', crossrefs, 'bigg_to_others',)\n",
    "\n",
    "seed_to_others = create_something_to_others_dict( chem_xref, 'seed.compound:', crossrefs, 'seed_to_others',)\n"
   ]
  },
  {
   "cell_type": "markdown",
   "id": "3a823f62-fd42-48a4-8291-af24a4a0bb38",
   "metadata": {},
   "source": [
    "## testing area"
   ]
  },
  {
   "cell_type": "code",
   "execution_count": 16,
   "id": "06b216ff-389f-48b8-b28c-40ca32dceecf",
   "metadata": {},
   "outputs": [
    {
     "data": {
      "text/plain": [
       "{'kegg.compound': {'C00031'},\n",
       " 'kegg.drug': {'D00009'},\n",
       " 'kegg.glycan': set(),\n",
       " 'biocyc': {'Glucopyranose',\n",
       "  'Hederagenin-Monoglucosides',\n",
       "  'Soyasapogenol-B-Monoglucosides',\n",
       "  'Soyasapogenol-E-Monoglucosides'},\n",
       " 'hmdb': {'HMDB0000122',\n",
       "  'HMDB0000516',\n",
       "  'HMDB0003340',\n",
       "  'HMDB0006564',\n",
       "  'HMDB00122',\n",
       "  'HMDB00516',\n",
       "  'HMDB0062170',\n",
       "  'HMDB03340',\n",
       "  'HMDB06564',\n",
       "  'HMDB62170'},\n",
       " 'bigg.metabolite': {'glc__D'},\n",
       " 'seed.compound': {'cpd00027'},\n",
       " 'chebi': {'4167'},\n",
       " 'sabiork': {'1406', '1407'},\n",
       " 'lipidmaps': set(),\n",
       " 'envipath': set(),\n",
       " 'reactome': set(),\n",
       " 'rhea_g': set(),\n",
       " 'rhea_p': set(),\n",
       " 'swisslipids': set(),\n",
       " 'inchi': {'InChI=1S/C6H12O6/c7-1-2-3(8)4(9)5(10)6(11)12-2/h2-11H,1H2/t2-,3-,4+,5-,6?/m1/s1'},\n",
       " 'inchikey': {'InChIKey=WQZGKKKJIJFFOK-GASJEMHNSA-N'},\n",
       " 'smiles': {'OC[C@H]1OC(O)[C@H](O)[C@@H](O)[C@@H]1O'},\n",
       " 'metanetx.chemical': {'MNXM1137670'}}"
      ]
     },
     "execution_count": 16,
     "metadata": {},
     "output_type": "execute_result"
    }
   ],
   "source": [
    "bigg_to_others['glc__D']"
   ]
  },
  {
   "cell_type": "code",
   "execution_count": 18,
   "id": "26c066ac-15b2-42fc-921a-ea33acf6fcfc",
   "metadata": {},
   "outputs": [
    {
     "data": {
      "text/plain": [
       "{'kegg.compound': {'C00031'},\n",
       " 'kegg.drug': {'D00009'},\n",
       " 'kegg.glycan': set(),\n",
       " 'biocyc': {'Glucopyranose',\n",
       "  'Hederagenin-Monoglucosides',\n",
       "  'Soyasapogenol-B-Monoglucosides',\n",
       "  'Soyasapogenol-E-Monoglucosides'},\n",
       " 'hmdb': {'HMDB0000122',\n",
       "  'HMDB0000516',\n",
       "  'HMDB0003340',\n",
       "  'HMDB0006564',\n",
       "  'HMDB00122',\n",
       "  'HMDB00516',\n",
       "  'HMDB0062170',\n",
       "  'HMDB03340',\n",
       "  'HMDB06564',\n",
       "  'HMDB62170'},\n",
       " 'bigg.metabolite': {'glc__D'},\n",
       " 'seed.compound': {'cpd00027'},\n",
       " 'chebi': {'4167'},\n",
       " 'sabiork': {'1406', '1407'},\n",
       " 'lipidmaps': set(),\n",
       " 'envipath': set(),\n",
       " 'reactome': set(),\n",
       " 'rhea_g': set(),\n",
       " 'rhea_p': set(),\n",
       " 'swisslipids': set(),\n",
       " 'inchi': {'InChI=1S/C6H12O6/c7-1-2-3(8)4(9)5(10)6(11)12-2/h2-11H,1H2/t2-,3-,4+,5-,6?/m1/s1'},\n",
       " 'inchikey': {'InChIKey=WQZGKKKJIJFFOK-GASJEMHNSA-N'},\n",
       " 'smiles': {'OC[C@H]1OC(O)[C@H](O)[C@@H](O)[C@@H]1O'},\n",
       " 'metanetx.chemical': {'MNXM1137670'}}"
      ]
     },
     "execution_count": 18,
     "metadata": {},
     "output_type": "execute_result"
    }
   ],
   "source": [
    "seed_to_others['cpd00027']"
   ]
  },
  {
   "cell_type": "code",
   "execution_count": null,
   "id": "ebb28b99-7199-4332-91f5-a46b1ec3aa14",
   "metadata": {},
   "outputs": [],
   "source": []
  }
 ],
 "metadata": {
  "kernelspec": {
   "display_name": "Python 3 (ipykernel)",
   "language": "python",
   "name": "python3"
  },
  "language_info": {
   "codemirror_mode": {
    "name": "ipython",
    "version": 3
   },
   "file_extension": ".py",
   "mimetype": "text/x-python",
   "name": "python",
   "nbconvert_exporter": "python",
   "pygments_lexer": "ipython3",
   "version": "3.9.15"
  }
 },
 "nbformat": 4,
 "nbformat_minor": 5
}
