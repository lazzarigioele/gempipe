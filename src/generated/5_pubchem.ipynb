{
 "cells": [
  {
   "cell_type": "code",
   "execution_count": 1,
   "id": "984e6147-4464-43bd-a9f4-25bd9cee9900",
   "metadata": {},
   "outputs": [
    {
     "data": {
      "text/plain": [
       "'/home/jovyan/work/src/generated'"
      ]
     },
     "execution_count": 1,
     "metadata": {},
     "output_type": "execute_result"
    }
   ],
   "source": [
    "pwd"
   ]
  },
  {
   "cell_type": "markdown",
   "id": "4ba71d78-2a9f-4766-87e6-580897432ca1",
   "metadata": {},
   "source": [
    "Files were genereted by PubChem routines on 2023-12-08 23:47. \n",
    "(I read this on the FTP site)"
   ]
  },
  {
   "cell_type": "code",
   "execution_count": 2,
   "id": "4ffc9214-0a16-4f9e-a97d-b632b044aaad",
   "metadata": {},
   "outputs": [],
   "source": [
    "%%capture\n",
    "%%bash\n",
    "\n",
    "cd pubchem/\n",
    "\n",
    "wget https://ftp.ncbi.nlm.nih.gov/pubchem/RDF/inchikey/pc_inchikey2compound_000001.ttl.gz\n",
    "wget https://ftp.ncbi.nlm.nih.gov/pubchem/RDF/inchikey/pc_inchikey2compound_000002.ttl.gz\n",
    "wget https://ftp.ncbi.nlm.nih.gov/pubchem/RDF/inchikey/pc_inchikey2compound_000003.ttl.gz\n",
    "wget https://ftp.ncbi.nlm.nih.gov/pubchem/RDF/inchikey/pc_inchikey2compound_000004.ttl.gz\n",
    "wget https://ftp.ncbi.nlm.nih.gov/pubchem/RDF/inchikey/pc_inchikey2compound_000005.ttl.gz\n",
    "wget https://ftp.ncbi.nlm.nih.gov/pubchem/RDF/inchikey/pc_inchikey2compound_000006.ttl.gz\n",
    "wget https://ftp.ncbi.nlm.nih.gov/pubchem/RDF/inchikey/pc_inchikey2compound_000007.ttl.gz\n",
    "wget https://ftp.ncbi.nlm.nih.gov/pubchem/RDF/inchikey/pc_inchikey2compound_000008.ttl.gz\n",
    "wget https://ftp.ncbi.nlm.nih.gov/pubchem/RDF/inchikey/pc_inchikey2compound_000009.ttl.gz\n",
    "wget https://ftp.ncbi.nlm.nih.gov/pubchem/RDF/inchikey/pc_inchikey2compound_000010.ttl.gz"
   ]
  },
  {
   "cell_type": "code",
   "execution_count": 3,
   "id": "74ce0dc0-df05-4a78-9f20-df4dc8516a82",
   "metadata": {},
   "outputs": [],
   "source": [
    "%%bash\n",
    "\n",
    "gzip -d pubchem/*.ttl.gz"
   ]
  },
  {
   "cell_type": "code",
   "execution_count": 1,
   "id": "039de458-7f1c-4a3b-a9ea-ffff70a02430",
   "metadata": {},
   "outputs": [
    {
     "name": "stdout",
     "output_type": "stream",
     "text": [
      "Parsing pubchem/pc_inchikey2compound_000004.ttl...\n",
      "0%\n",
      "10%\n",
      "20%\n",
      "30%\n",
      "40%\n",
      "50%\n",
      "60%\n",
      "70%\n",
      "80%\n",
      "90%\n",
      "Parsing pubchem/pc_inchikey2compound_000001.ttl...\n",
      "0%\n",
      "10%\n",
      "20%\n",
      "30%\n",
      "40%\n",
      "50%\n",
      "60%\n",
      "70%\n",
      "80%\n",
      "90%\n",
      "Parsing pubchem/pc_inchikey2compound_000010.ttl...\n",
      "0%\n",
      "10%\n",
      "20%\n",
      "30%\n",
      "40%\n",
      "50%\n",
      "60%\n",
      "70%\n",
      "80%\n",
      "90%\n",
      "Parsing pubchem/pc_inchikey2compound_000008.ttl...\n",
      "0%\n",
      "10%\n",
      "20%\n",
      "30%\n",
      "40%\n",
      "50%\n",
      "60%\n",
      "70%\n",
      "80%\n",
      "90%\n",
      "Parsing pubchem/pc_inchikey2compound_000006.ttl...\n",
      "0%\n",
      "10%\n",
      "20%\n",
      "30%\n",
      "40%\n",
      "50%\n",
      "60%\n",
      "70%\n",
      "80%\n",
      "90%\n",
      "Parsing pubchem/pc_inchikey2compound_000007.ttl...\n",
      "0%\n",
      "10%\n",
      "20%\n",
      "30%\n",
      "40%\n",
      "50%\n",
      "60%\n",
      "70%\n",
      "80%\n",
      "90%\n",
      "Parsing pubchem/pc_inchikey2compound_000009.ttl...\n",
      "0%\n",
      "10%\n",
      "20%\n",
      "30%\n",
      "40%\n",
      "50%\n",
      "60%\n",
      "70%\n",
      "80%\n",
      "90%\n",
      "Parsing pubchem/pc_inchikey2compound_000002.ttl...\n",
      "0%\n",
      "10%\n",
      "20%\n",
      "30%\n",
      "40%\n",
      "50%\n",
      "60%\n",
      "70%\n",
      "80%\n",
      "90%\n",
      "Parsing pubchem/pc_inchikey2compound_000005.ttl...\n",
      "0%\n",
      "10%\n",
      "20%\n",
      "30%\n",
      "40%\n",
      "50%\n",
      "60%\n",
      "70%\n",
      "80%\n",
      "90%\n",
      "Parsing pubchem/pc_inchikey2compound_000003.ttl...\n",
      "0%\n",
      "10%\n",
      "20%\n",
      "30%\n",
      "40%\n",
      "50%\n",
      "60%\n",
      "70%\n",
      "80%\n",
      "90%\n"
     ]
    }
   ],
   "source": [
    "import glob\n",
    "\n",
    "\n",
    "inchikey_to_pubchem = {}\n",
    "\n",
    "\n",
    "for file_path in glob.glob('pubchem/*.ttl'): \n",
    "    print(f\"Parsing {file_path}...\", flush=True)\n",
    "    \n",
    "    \n",
    "    line_count = sum(1 for line in open(file_path, \"r\"))\n",
    "    current_complete = None\n",
    "    with open(file_path, \"r\") as file:\n",
    "        \n",
    "        for i, line in enumerate(file):\n",
    "            line = line.strip().rstrip()\n",
    "            if line.startswith('@'): continue  # it's a comment.\n",
    "            fields = line.split('\\t')\n",
    "            \n",
    "            if len(fields) == 3: \n",
    "                inchikey = fields[0].replace('inchikey:', '')\n",
    "                inchikey_to_pubchem[inchikey] = set()\n",
    "                pubchem = fields[2].split(' ', 1)[0]\n",
    "                pubchem = pubchem.replace('compound:', '')\n",
    "                inchikey_to_pubchem[inchikey].add(pubchem)\n",
    "            \n",
    "            if len(fields) == 1:\n",
    "                pubchem = fields[0].split(' ', 1)[0]\n",
    "                pubchem = pubchem.replace('compound:', '')\n",
    "                inchikey_to_pubchem[inchikey].add(pubchem)\n",
    "                \n",
    "                \n",
    "            complete = int(i/line_count*100)\n",
    "            if complete % 10 == 0 and current_complete != complete:\n",
    "                current_complete = complete\n",
    "                print(f'{current_complete}%')\n",
    "                \n",
    "            \n",
    "                "
   ]
  },
  {
   "cell_type": "code",
   "execution_count": 2,
   "id": "b103706b-f985-404f-ad07-2a21514ff0a9",
   "metadata": {},
   "outputs": [],
   "source": [
    "import pickle\n",
    "with open(f'pubchem_dicts/inchikey_to_pubchem.pickle', 'wb') as handle:\n",
    "    pickle.dump(inchikey_to_pubchem, handle)"
   ]
  },
  {
   "cell_type": "code",
   "execution_count": 3,
   "id": "58352dd2-abf2-4f31-ae3c-612b16582bea",
   "metadata": {},
   "outputs": [
    {
     "data": {
      "text/plain": [
       "'/home/jovyan/work/src/generated'"
      ]
     },
     "execution_count": 3,
     "metadata": {},
     "output_type": "execute_result"
    }
   ],
   "source": [
    "%pwd\n"
   ]
  },
  {
   "cell_type": "code",
   "execution_count": 16,
   "id": "66a7a8be-601e-4fcf-ad88-821313b1d8b4",
   "metadata": {},
   "outputs": [],
   "source": [
    "import copy\n",
    "import pickle\n",
    "\n",
    "\n",
    "def extend_with_pubchem(something_to_others, inchikey_to_pubchem):\n",
    "\n",
    "    something_to_others_basename = something_to_others\n",
    "    \n",
    "    # read something_to_others\n",
    "    with open(f'mnx_dicts_M/{something_to_others}.pickle', 'rb') as handler:\n",
    "        something_to_others = pickle.load(handler)\n",
    "\n",
    "\n",
    "    something_to_others_pubchem = copy.deepcopy(something_to_others)\n",
    "    for something_id in something_to_others.keys():  # something_id = bigg or seed ID.\n",
    "        something_to_others_pubchem[something_id]['pubchem.compound'] = set()\n",
    "\n",
    "        for inchikey in something_to_others[something_id]['inchikey']:\n",
    "            try:  # search this inchikey in pubchem\n",
    "                key = inchikey.replace('InChIKey=', '')\n",
    "                pubchem_ids = inchikey_to_pubchem[key]\n",
    "                for pubchem_id in pubchem_ids:\n",
    "                    something_to_others_pubchem[something_id]['pubchem.compound'].add(pubchem_id)\n",
    "            except:  # this inchikey is not in pubchem  (eg WQFXOEJTASQGNX-XAXPYQTGSA-N)\n",
    "                continue\n",
    "                \n",
    "                \n",
    "    # save sopmething to others extended with pubchem\n",
    "    with open(f'pubchem_dicts/{something_to_others_basename}.pickle', 'wb') as handle:\n",
    "        pickle.dump(something_to_others_pubchem, handle)\n",
    "    \n",
    "    \n",
    "    return something_to_others_pubchem\n",
    "    "
   ]
  },
  {
   "cell_type": "code",
   "execution_count": 17,
   "id": "6dfa7127-0b6a-4e41-81e8-cab08603d76b",
   "metadata": {},
   "outputs": [],
   "source": [
    "bigg_to_others =           extend_with_pubchem('bigg_to_others', inchikey_to_pubchem)\n",
    "bigg_to_others_extended =  extend_with_pubchem('bigg_to_others_extended', inchikey_to_pubchem)\n",
    "seed_to_others =           extend_with_pubchem('seed_to_others', inchikey_to_pubchem)\n",
    "seed_to_others_extended =  extend_with_pubchem('seed_to_others_extended', inchikey_to_pubchem)"
   ]
  },
  {
   "cell_type": "markdown",
   "id": "3ed1ccf3-f868-4028-963c-c2587c6ddb49",
   "metadata": {},
   "source": [
    "## testing area"
   ]
  },
  {
   "cell_type": "code",
   "execution_count": 18,
   "id": "dfcff9af-af34-4cba-aab1-c8973562c061",
   "metadata": {},
   "outputs": [
    {
     "data": {
      "text/plain": [
       "{'kegg.compound': {'C00031'},\n",
       " 'kegg.drug': {'D00009'},\n",
       " 'kegg.glycan': set(),\n",
       " 'biocyc': {'Glucopyranose',\n",
       "  'Hederagenin-Monoglucosides',\n",
       "  'Soyasapogenol-B-Monoglucosides',\n",
       "  'Soyasapogenol-E-Monoglucosides'},\n",
       " 'hmdb': {'HMDB0000122',\n",
       "  'HMDB0000516',\n",
       "  'HMDB0003340',\n",
       "  'HMDB0006564',\n",
       "  'HMDB00122',\n",
       "  'HMDB00516',\n",
       "  'HMDB0062170',\n",
       "  'HMDB03340',\n",
       "  'HMDB06564',\n",
       "  'HMDB62170'},\n",
       " 'bigg.metabolite': {'glc__D'},\n",
       " 'seed.compound': {'cpd00027'},\n",
       " 'chebi': {'4167'},\n",
       " 'sabiork': {'1406', '1407'},\n",
       " 'lipidmaps': set(),\n",
       " 'envipath': set(),\n",
       " 'reactome': set(),\n",
       " 'rhea_g': set(),\n",
       " 'rhea_p': set(),\n",
       " 'swisslipids': set(),\n",
       " 'inchi': {'InChI=1S/C6H12O6/c7-1-2-3(8)4(9)5(10)6(11)12-2/h2-11H,1H2/t2-,3-,4+,5-,6?/m1/s1'},\n",
       " 'inchikey': {'InChIKey=WQZGKKKJIJFFOK-GASJEMHNSA-N'},\n",
       " 'smiles': {'OC[C@H]1OC(O)[C@H](O)[C@@H](O)[C@@H]1O'},\n",
       " 'metanetx.chemical': {'MNXM1137670'},\n",
       " 'pubchem.compound': {'CID5793'}}"
      ]
     },
     "execution_count": 18,
     "metadata": {},
     "output_type": "execute_result"
    }
   ],
   "source": [
    "seed_to_others['cpd00027']"
   ]
  },
  {
   "cell_type": "code",
   "execution_count": 19,
   "id": "5b23550b-9764-4c82-b4a1-42cef7081b24",
   "metadata": {},
   "outputs": [
    {
     "data": {
      "text/plain": [
       "{'kegg.compound': {'C00031', 'C00221', 'C00267'},\n",
       " 'kegg.drug': {'D00009'},\n",
       " 'kegg.glycan': set(),\n",
       " 'biocyc': {'ALPHA-GLUCOSE',\n",
       "  'GLC',\n",
       "  'Glucopyranose',\n",
       "  'Hederagenin-Monoglucosides',\n",
       "  'Soyasapogenol-B-Monoglucosides',\n",
       "  'Soyasapogenol-E-Monoglucosides'},\n",
       " 'hmdb': {'HMDB0000122',\n",
       "  'HMDB0000516',\n",
       "  'HMDB0003340',\n",
       "  'HMDB0003345',\n",
       "  'HMDB0006564',\n",
       "  'HMDB00122',\n",
       "  'HMDB00516',\n",
       "  'HMDB0061922',\n",
       "  'HMDB0062170',\n",
       "  'HMDB03340',\n",
       "  'HMDB03345',\n",
       "  'HMDB06564',\n",
       "  'HMDB61922',\n",
       "  'HMDB62170'},\n",
       " 'bigg.metabolite': {'Glc_aD', 'glc_D_B', 'glc__D', 'glc__aD', 'glc__bD'},\n",
       " 'seed.compound': {'cpd00027', 'cpd00190', 'cpd19001'},\n",
       " 'chebi': {'10242',\n",
       "  '10397',\n",
       "  '12318',\n",
       "  '12373',\n",
       "  '15903',\n",
       "  '17925',\n",
       "  '22386',\n",
       "  '22795',\n",
       "  '40557',\n",
       "  '41140',\n",
       "  '4167',\n",
       "  '42802',\n",
       "  '88300'},\n",
       " 'sabiork': {'1364', '1378', '1406', '1407'},\n",
       " 'lipidmaps': set(),\n",
       " 'envipath': {'32de3cf4-e3e6-4168-956e-32fa5ddb0ce1/compound/bee44ace-e680-4580-8d73-374e54ae70f8',\n",
       "  '650babc9-9d68-4b73-9332-11972ca26f7b/compound/16de7863-b7a8-4f6e-84c4-cc26b6bd3cd5'},\n",
       " 'reactome': {'R-ALL-113780',\n",
       "  'R-ALL-1605745',\n",
       "  'R-ALL-170829',\n",
       "  'R-ALL-70113',\n",
       "  'R-ALL-70115',\n",
       "  'R-ALL-964746'},\n",
       " 'rhea_g': set(),\n",
       " 'rhea_p': set(),\n",
       " 'swisslipids': set(),\n",
       " 'inchi': {'InChI=1S/C6H12O6/c7-1-2-3(8)4(9)5(10)6(11)12-2/h2-11H,1H2/t2-,3-,4+,5-,6+/m1/s1',\n",
       "  'InChI=1S/C6H12O6/c7-1-2-3(8)4(9)5(10)6(11)12-2/h2-11H,1H2/t2-,3-,4+,5-,6-/m1/s1',\n",
       "  'InChI=1S/C6H12O6/c7-1-2-3(8)4(9)5(10)6(11)12-2/h2-11H,1H2/t2-,3-,4+,5-,6?/m1/s1'},\n",
       " 'inchikey': {'InChIKey=WQZGKKKJIJFFOK-DVKNGEFBSA-N',\n",
       "  'InChIKey=WQZGKKKJIJFFOK-GASJEMHNSA-N',\n",
       "  'InChIKey=WQZGKKKJIJFFOK-VFUOTHLCSA-N'},\n",
       " 'smiles': {'OC[C@H]1OC(O)[C@H](O)[C@@H](O)[C@@H]1O',\n",
       "  'OC[C@H]1O[C@@H](O)[C@H](O)[C@@H](O)[C@@H]1O',\n",
       "  'OC[C@H]1O[C@H](O)[C@H](O)[C@@H](O)[C@@H]1O'},\n",
       " 'metanetx.chemical': {'MNXM1105026', 'MNXM1105027', 'MNXM1137670'},\n",
       " 'pubchem.compound': {'CID5793', 'CID64689', 'CID79025'}}"
      ]
     },
     "execution_count": 19,
     "metadata": {},
     "output_type": "execute_result"
    }
   ],
   "source": [
    "seed_to_others_extended['cpd00027']"
   ]
  },
  {
   "cell_type": "code",
   "execution_count": 20,
   "id": "a41fdc68-ffdc-4fc2-846a-a34785b5d3c8",
   "metadata": {},
   "outputs": [
    {
     "data": {
      "text/plain": [
       "{'kegg.compound': {'C00031'},\n",
       " 'kegg.drug': {'D00009'},\n",
       " 'kegg.glycan': set(),\n",
       " 'biocyc': {'Glucopyranose',\n",
       "  'Hederagenin-Monoglucosides',\n",
       "  'Soyasapogenol-B-Monoglucosides',\n",
       "  'Soyasapogenol-E-Monoglucosides'},\n",
       " 'hmdb': {'HMDB0000122',\n",
       "  'HMDB0000516',\n",
       "  'HMDB0003340',\n",
       "  'HMDB0006564',\n",
       "  'HMDB00122',\n",
       "  'HMDB00516',\n",
       "  'HMDB0062170',\n",
       "  'HMDB03340',\n",
       "  'HMDB06564',\n",
       "  'HMDB62170'},\n",
       " 'bigg.metabolite': {'glc__D'},\n",
       " 'seed.compound': {'cpd00027'},\n",
       " 'chebi': {'4167'},\n",
       " 'sabiork': {'1406', '1407'},\n",
       " 'lipidmaps': set(),\n",
       " 'envipath': set(),\n",
       " 'reactome': set(),\n",
       " 'rhea_g': set(),\n",
       " 'rhea_p': set(),\n",
       " 'swisslipids': set(),\n",
       " 'inchi': {'InChI=1S/C6H12O6/c7-1-2-3(8)4(9)5(10)6(11)12-2/h2-11H,1H2/t2-,3-,4+,5-,6?/m1/s1'},\n",
       " 'inchikey': {'InChIKey=WQZGKKKJIJFFOK-GASJEMHNSA-N'},\n",
       " 'smiles': {'OC[C@H]1OC(O)[C@H](O)[C@@H](O)[C@@H]1O'},\n",
       " 'metanetx.chemical': {'MNXM1137670'},\n",
       " 'pubchem.compound': {'CID5793'}}"
      ]
     },
     "execution_count": 20,
     "metadata": {},
     "output_type": "execute_result"
    }
   ],
   "source": [
    "bigg_to_others['glc__D']"
   ]
  },
  {
   "cell_type": "code",
   "execution_count": 21,
   "id": "0b6fb196-2bfe-4a36-89fd-2ec6d29d62b8",
   "metadata": {},
   "outputs": [
    {
     "data": {
      "text/plain": [
       "{'kegg.compound': {'C00031', 'C00221', 'C00267'},\n",
       " 'kegg.drug': {'D00009'},\n",
       " 'kegg.glycan': set(),\n",
       " 'biocyc': {'ALPHA-GLUCOSE',\n",
       "  'GLC',\n",
       "  'Glucopyranose',\n",
       "  'Hederagenin-Monoglucosides',\n",
       "  'Soyasapogenol-B-Monoglucosides',\n",
       "  'Soyasapogenol-E-Monoglucosides'},\n",
       " 'hmdb': {'HMDB0000122',\n",
       "  'HMDB0000516',\n",
       "  'HMDB0003340',\n",
       "  'HMDB0003345',\n",
       "  'HMDB0006564',\n",
       "  'HMDB00122',\n",
       "  'HMDB00516',\n",
       "  'HMDB0061922',\n",
       "  'HMDB0062170',\n",
       "  'HMDB03340',\n",
       "  'HMDB03345',\n",
       "  'HMDB06564',\n",
       "  'HMDB61922',\n",
       "  'HMDB62170'},\n",
       " 'bigg.metabolite': {'Glc_aD', 'glc_D_B', 'glc__D', 'glc__aD', 'glc__bD'},\n",
       " 'seed.compound': {'cpd00027', 'cpd00190', 'cpd19001'},\n",
       " 'chebi': {'10242',\n",
       "  '10397',\n",
       "  '12318',\n",
       "  '12373',\n",
       "  '15903',\n",
       "  '17925',\n",
       "  '22386',\n",
       "  '22795',\n",
       "  '40557',\n",
       "  '41140',\n",
       "  '4167',\n",
       "  '42802',\n",
       "  '88300'},\n",
       " 'sabiork': {'1364', '1378', '1406', '1407'},\n",
       " 'lipidmaps': set(),\n",
       " 'envipath': {'32de3cf4-e3e6-4168-956e-32fa5ddb0ce1/compound/bee44ace-e680-4580-8d73-374e54ae70f8',\n",
       "  '650babc9-9d68-4b73-9332-11972ca26f7b/compound/16de7863-b7a8-4f6e-84c4-cc26b6bd3cd5'},\n",
       " 'reactome': {'R-ALL-113780',\n",
       "  'R-ALL-1605745',\n",
       "  'R-ALL-170829',\n",
       "  'R-ALL-70113',\n",
       "  'R-ALL-70115',\n",
       "  'R-ALL-964746'},\n",
       " 'rhea_g': set(),\n",
       " 'rhea_p': set(),\n",
       " 'swisslipids': set(),\n",
       " 'inchi': {'InChI=1S/C6H12O6/c7-1-2-3(8)4(9)5(10)6(11)12-2/h2-11H,1H2/t2-,3-,4+,5-,6+/m1/s1',\n",
       "  'InChI=1S/C6H12O6/c7-1-2-3(8)4(9)5(10)6(11)12-2/h2-11H,1H2/t2-,3-,4+,5-,6-/m1/s1',\n",
       "  'InChI=1S/C6H12O6/c7-1-2-3(8)4(9)5(10)6(11)12-2/h2-11H,1H2/t2-,3-,4+,5-,6?/m1/s1'},\n",
       " 'inchikey': {'InChIKey=WQZGKKKJIJFFOK-DVKNGEFBSA-N',\n",
       "  'InChIKey=WQZGKKKJIJFFOK-GASJEMHNSA-N',\n",
       "  'InChIKey=WQZGKKKJIJFFOK-VFUOTHLCSA-N'},\n",
       " 'smiles': {'OC[C@H]1OC(O)[C@H](O)[C@@H](O)[C@@H]1O',\n",
       "  'OC[C@H]1O[C@@H](O)[C@H](O)[C@@H](O)[C@@H]1O',\n",
       "  'OC[C@H]1O[C@H](O)[C@H](O)[C@@H](O)[C@@H]1O'},\n",
       " 'metanetx.chemical': {'MNXM1105026', 'MNXM1105027', 'MNXM1137670'},\n",
       " 'pubchem.compound': {'CID5793', 'CID64689', 'CID79025'}}"
      ]
     },
     "execution_count": 21,
     "metadata": {},
     "output_type": "execute_result"
    }
   ],
   "source": [
    "bigg_to_others_extended['glc__D']"
   ]
  },
  {
   "cell_type": "code",
   "execution_count": null,
   "id": "e962f2ff-0862-4154-acd3-48dce3e47bc7",
   "metadata": {},
   "outputs": [],
   "source": []
  }
 ],
 "metadata": {
  "kernelspec": {
   "display_name": "Python 3 (ipykernel)",
   "language": "python",
   "name": "python3"
  },
  "language_info": {
   "codemirror_mode": {
    "name": "ipython",
    "version": 3
   },
   "file_extension": ".py",
   "mimetype": "text/x-python",
   "name": "python",
   "nbconvert_exporter": "python",
   "pygments_lexer": "ipython3",
   "version": "3.9.15"
  }
 },
 "nbformat": 4,
 "nbformat_minor": 5
}
