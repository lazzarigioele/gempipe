{
 "cells": [
  {
   "cell_type": "markdown",
   "id": "e5dc599b-b1cf-4f25-ba11-36ed1940d64d",
   "metadata": {
    "tags": []
   },
   "source": [
    "# Part 1: sarsing of mnx reaction"
   ]
  },
  {
   "cell_type": "code",
   "execution_count": 1,
   "id": "c627c57b-420b-411a-be49-b55d6d4004fa",
   "metadata": {},
   "outputs": [
    {
     "name": "stdout",
     "output_type": "stream",
     "text": [
      "/home/jovyan/work/src/generated\n"
     ]
    }
   ],
   "source": [
    "%%bash\n",
    "pwd"
   ]
  },
  {
   "cell_type": "code",
   "execution_count": 2,
   "id": "62411456-54c5-4316-806f-8e9e49f3a9b8",
   "metadata": {
    "tags": [
     "remove-cell"
    ]
   },
   "outputs": [],
   "source": [
    "import pandas as pnd\n",
    "import pickle\n",
    "import copy\n",
    "import os"
   ]
  },
  {
   "cell_type": "code",
   "execution_count": 3,
   "id": "928d0a58-43fe-4f2c-a3cf-76519440ad0b",
   "metadata": {},
   "outputs": [],
   "source": [
    "header_reac_prop = ['ID', 'mnx_equation', 'reference', 'ECs', 'is_balanced', 'is_transport',]\n",
    "reac_prop = pnd.read_csv('metanetx_4_4/reac_prop.tsv', sep='\\t', comment='#', header=None, names=header_reac_prop)\n",
    "reac_prop.set_index('ID', drop=True, inplace=True, verify_integrity=True)"
   ]
  },
  {
   "cell_type": "code",
   "execution_count": 4,
   "id": "7cd44b6c-e624-4304-9bb6-da291fdd8ab0",
   "metadata": {},
   "outputs": [],
   "source": [
    "header_reac_xref = ['source', 'ID', 'description']\n",
    "reac_xref = pnd.read_csv('metanetx_4_4/reac_xref.tsv', sep='\\t', skiprows=352, header=None, names=header_reac_xref)\n",
    "# reac_xref.set_index('source', drop=True, inplace=True, verify_integrity=True)\n",
    "# there are some duplicated IDs here! See eg \"kegg.reaction:R04422#1\" and \"kegg.reaction:R04422#2\""
   ]
  },
  {
   "cell_type": "code",
   "execution_count": 5,
   "id": "598160cd-7a24-45cb-8059-cf5627a8a208",
   "metadata": {},
   "outputs": [],
   "source": [
    "# prepare output directories\n",
    "os.makedirs('mnx_dicts_R/', exist_ok=True)"
   ]
  },
  {
   "cell_type": "markdown",
   "id": "03dd1986-5b62-4fa0-86bb-f5b6a206da32",
   "metadata": {},
   "source": [
    "## mnx_to_something dict creation"
   ]
  },
  {
   "cell_type": "code",
   "execution_count": 6,
   "id": "a322eaae-1024-42dc-b355-b9ef1e866b54",
   "metadata": {},
   "outputs": [],
   "source": [
    "def create_mnx_to_something_dict(reac_xref, key):\n",
    "    \n",
    "    # parse the table: \n",
    "    mnx_to_something = {}\n",
    "    for index, row in reac_xref.iterrows():\n",
    "        \n",
    "        \n",
    "        # check if the 'source' begins with the given key:\n",
    "        if row.source.startswith(key):\n",
    "            something_id = row.source[len(key): ]  # id to the specific db.\n",
    "            mnx_id = row.ID  # get the corresponding mnx id.\n",
    "            \n",
    "            \n",
    "            # populate the dictionary: \n",
    "            if mnx_id not in mnx_to_something.keys(): \n",
    "                mnx_to_something[mnx_id] = set()\n",
    "            mnx_to_something[mnx_id].add(something_id)\n",
    "            \n",
    "    \n",
    "    # write to disk\n",
    "    name = key[:-1]  # avoid the ':'\n",
    "    with open(f'mnx_dicts_R/{name}.pickle', 'wb') as handle:\n",
    "        pickle.dump(mnx_to_something, handle)\n",
    "            \n",
    "            \n",
    "    return mnx_to_something\n"
   ]
  },
  {
   "cell_type": "code",
   "execution_count": 7,
   "id": "6fd0d9be-7dc1-41bd-a773-dcec0be39345",
   "metadata": {
    "tags": []
   },
   "outputs": [],
   "source": [
    "# Currently missing annots: {'reactome', 'sbo'}\n",
    "\n",
    "mnx_to_kegg = create_mnx_to_something_dict(reac_xref, key='kegg.reaction:')\n",
    "mnx_to_metacyc = create_mnx_to_something_dict(reac_xref, key='metacyc.reaction:')\n",
    "mnx_to_seed = create_mnx_to_something_dict(reac_xref, key='seed.reaction:')\n",
    "mnx_to_bigg = create_mnx_to_something_dict(reac_xref, key='bigg.reaction:')\n",
    "mnx_to_rhea = create_mnx_to_something_dict(reac_xref, key='rheaR:')\n",
    "mnx_to_sabiork = create_mnx_to_something_dict(reac_xref, key='sabiork.reaction:')"
   ]
  },
  {
   "cell_type": "code",
   "execution_count": 8,
   "id": "161d6bf5-a405-45e4-92d1-f69f7fbae567",
   "metadata": {},
   "outputs": [],
   "source": [
    "# get the EC codes: \n",
    "def create_mnx_to_ec_dict(reac_prop): \n",
    "    \n",
    "    \n",
    "    # parse the table: \n",
    "    mnx_to_ec = {}\n",
    "    for index, row in reac_prop.iterrows(): \n",
    "        \n",
    "        \n",
    "        # populate the dictionary\n",
    "        if index not in mnx_to_ec.keys():\n",
    "            mnx_to_ec[index] = set()\n",
    "        if type(row.ECs) != str:\n",
    "            continue\n",
    "        for ec in row.ECs.split(';'):\n",
    "            mnx_to_ec[index].add(ec)\n",
    "            \n",
    "    \n",
    "    # write to disk\n",
    "    with open(f'mnx_dicts_R/mnx_to_ec.pickle', 'wb') as handle:\n",
    "        pickle.dump(mnx_to_ec, handle)\n",
    "            \n",
    "            \n",
    "    return mnx_to_ec"
   ]
  },
  {
   "cell_type": "code",
   "execution_count": 9,
   "id": "489e8a3d-b376-417c-87c0-be6b52ff6a6f",
   "metadata": {
    "tags": []
   },
   "outputs": [],
   "source": [
    "mnx_to_ec = create_mnx_to_ec_dict(reac_prop)"
   ]
  },
  {
   "cell_type": "code",
   "execution_count": 10,
   "id": "55ae19dd-151e-4c67-a627-1fddba0d0e4e",
   "metadata": {},
   "outputs": [],
   "source": [
    "# keys pointing to themseves, gaining also this annotation\n",
    "def create_mnx_to_mnx_dict(reac_prop): \n",
    "    \n",
    "    \n",
    "    # parse the table: \n",
    "    mnx_to_mnx = {}\n",
    "    for mnx_id, row in reac_prop.iterrows():\n",
    "        if mnx_id not in mnx_to_mnx.keys(): \n",
    "            mnx_to_mnx[mnx_id] = set() \n",
    "        mnx_to_mnx[mnx_id].add(mnx_id)\n",
    "        \n",
    "    \n",
    "    # write to disk: \n",
    "    with open(f'mnx_dicts_R/mnx_to_mnx.pickle', 'wb') as handle:\n",
    "        pickle.dump(mnx_to_mnx, handle)\n",
    "        \n",
    "    return mnx_to_mnx"
   ]
  },
  {
   "cell_type": "code",
   "execution_count": 11,
   "id": "0b1fccb6-6f29-4247-9fc5-9dd6a18efc37",
   "metadata": {},
   "outputs": [],
   "source": [
    "mnx_to_mnx = create_mnx_to_mnx_dict(reac_prop)"
   ]
  },
  {
   "cell_type": "markdown",
   "id": "59a046ef-ae7b-4b44-a18d-9215f58c60c3",
   "metadata": {},
   "source": [
    "## crossrefs creation"
   ]
  },
  {
   "cell_type": "code",
   "execution_count": 12,
   "id": "cfbbb2fc-8934-4a11-8fd5-ca554fd7fdda",
   "metadata": {},
   "outputs": [],
   "source": [
    "crossrefs = {\n",
    "    'kegg.reaction': mnx_to_kegg, \n",
    "    'biocyc': mnx_to_metacyc, \n",
    "    'seed.reaction': mnx_to_seed, \n",
    "    'bigg.reaction': mnx_to_bigg, \n",
    "    'rhea': mnx_to_rhea, \n",
    "    'sabiork.reaction': mnx_to_sabiork, \n",
    "    'ec-code': mnx_to_ec, \n",
    "    'metanetx.reaction': mnx_to_mnx, \n",
    "}\n",
    "\n",
    "with open(f'mnx_dicts_R/crossrefs.pickle', 'wb') as handle:\n",
    "    pickle.dump(crossrefs, handle)"
   ]
  },
  {
   "cell_type": "markdown",
   "id": "17973440-2a1a-4996-82c9-b5c87a44a2d5",
   "metadata": {},
   "source": [
    "# Part 2: bigg/seed to others dict creation"
   ]
  },
  {
   "cell_type": "code",
   "execution_count": 13,
   "id": "df792ba1-7794-4119-86cf-aa8cb0a44e97",
   "metadata": {},
   "outputs": [],
   "source": [
    "\n",
    "with open(f'mnx_dicts_R/crossrefs.pickle', 'rb') as handle:\n",
    "    crossrefs = pickle.load(handle)"
   ]
  },
  {
   "cell_type": "code",
   "execution_count": 14,
   "id": "969bc6b0-309b-4738-92c1-fa029c021dd6",
   "metadata": {},
   "outputs": [],
   "source": [
    "def create_something_to_others_dict(reac_xref, key, crossrefs, name,  ):\n",
    "\n",
    "    \n",
    "    # create a dictionary converting a bigg/seed reaction to all the others dbs\n",
    "    something_to_others = {}\n",
    "    for index, row in reac_xref.iterrows(): \n",
    "        \n",
    "        \n",
    "        # populate the dictionary\n",
    "        if row.source.startswith(key): \n",
    "            something_id = row.source[len(key):]\n",
    "            mnx_id = row.ID\n",
    "            if something_id not in something_to_others.keys(): \n",
    "                something_to_others[something_id] = {}\n",
    "            \n",
    "            \n",
    "            # iterate all the databases:\n",
    "            for crossref in crossrefs.keys(): \n",
    "                something_to_others[something_id][crossref] = set()\n",
    "                try: annots = crossrefs[crossref][mnx_id]\n",
    "                # no annotations for this mnx_id for this external database\n",
    "                except: continue\n",
    "                for annot in annots:\n",
    "                    something_to_others[something_id][crossref].add(annot)\n",
    "    \n",
    "    \n",
    "    # write to disk:\n",
    "    with open(f'mnx_dicts_R/{name}.pickle', 'wb') as handle:\n",
    "        pickle.dump(something_to_others, handle)\n",
    "    \n",
    "    \n",
    "    return something_to_others"
   ]
  },
  {
   "cell_type": "code",
   "execution_count": 15,
   "id": "381d73eb-98ca-454d-90b5-6fb9218c7995",
   "metadata": {},
   "outputs": [],
   "source": [
    "bigg_to_others = create_something_to_others_dict( reac_xref, 'bigg.reaction:', crossrefs, 'bigg_to_others',)\n",
    "\n",
    "seed_to_others = create_something_to_others_dict( reac_xref, 'seed.reaction:', crossrefs, 'seed_to_others',)\n"
   ]
  },
  {
   "cell_type": "markdown",
   "id": "b5af6089-a109-448f-8270-5dc0f662207f",
   "metadata": {},
   "source": [
    "## testing area"
   ]
  },
  {
   "cell_type": "code",
   "execution_count": 16,
   "id": "94f8c186-d180-4630-873e-ae8cb888db5c",
   "metadata": {},
   "outputs": [
    {
     "data": {
      "text/plain": [
       "{'kegg.reaction': {'R00771'},\n",
       " 'biocyc': {'PGLUCISOM-RXN'},\n",
       " 'seed.reaction': {'rxn00558', 'rxn33838', 'rxn34259', 'rxn37760'},\n",
       " 'bigg.reaction': {'PGI', 'PGI_h', 'R_PGI', 'R_PGI_h'},\n",
       " 'rhea': set(),\n",
       " 'sabiork.reaction': set(),\n",
       " 'ec-code': {'5.3.1.9'},\n",
       " 'metanetx.reaction': {'MNXR191975'}}"
      ]
     },
     "execution_count": 16,
     "metadata": {},
     "output_type": "execute_result"
    }
   ],
   "source": [
    "bigg_to_others['PGI']"
   ]
  },
  {
   "cell_type": "code",
   "execution_count": 17,
   "id": "cf430d6a-098d-4434-8d83-8dcef1f86d39",
   "metadata": {},
   "outputs": [
    {
     "data": {
      "text/plain": [
       "{'kegg.reaction': {'R00771'},\n",
       " 'biocyc': {'PGLUCISOM-RXN'},\n",
       " 'seed.reaction': {'rxn00558', 'rxn33838', 'rxn34259', 'rxn37760'},\n",
       " 'bigg.reaction': {'PGI', 'PGI_h', 'R_PGI', 'R_PGI_h'},\n",
       " 'rhea': set(),\n",
       " 'sabiork.reaction': set(),\n",
       " 'ec-code': {'5.3.1.9'},\n",
       " 'metanetx.reaction': {'MNXR191975'}}"
      ]
     },
     "execution_count": 17,
     "metadata": {},
     "output_type": "execute_result"
    }
   ],
   "source": [
    "seed_to_others['rxn00558']"
   ]
  },
  {
   "cell_type": "code",
   "execution_count": 19,
   "id": "cd3d1c32-f594-4b8f-bbad-2c3b7ba8e4ea",
   "metadata": {},
   "outputs": [
    {
     "data": {
      "text/plain": [
       "{'kegg.reaction': {'R00771'},\n",
       " 'biocyc': {'PGLUCISOM-RXN'},\n",
       " 'seed.reaction': {'rxn00558', 'rxn33838', 'rxn34259', 'rxn37760'},\n",
       " 'bigg.reaction': {'PGI', 'PGI_h', 'R_PGI', 'R_PGI_h'},\n",
       " 'rhea': set(),\n",
       " 'sabiork.reaction': set(),\n",
       " 'ec-code': {'5.3.1.9'},\n",
       " 'metanetx.reaction': {'MNXR191975'}}"
      ]
     },
     "execution_count": 19,
     "metadata": {},
     "output_type": "execute_result"
    }
   ],
   "source": [
    "seed_to_others['rxn33838']"
   ]
  },
  {
   "cell_type": "code",
   "execution_count": null,
   "id": "eeb15395-e8bd-4c92-89e6-3dca2967fcfd",
   "metadata": {},
   "outputs": [],
   "source": []
  }
 ],
 "metadata": {
  "kernelspec": {
   "display_name": "Python 3 (ipykernel)",
   "language": "python",
   "name": "python3"
  },
  "language_info": {
   "codemirror_mode": {
    "name": "ipython",
    "version": 3
   },
   "file_extension": ".py",
   "mimetype": "text/x-python",
   "name": "python",
   "nbconvert_exporter": "python",
   "pygments_lexer": "ipython3",
   "version": "3.9.15"
  }
 },
 "nbformat": 4,
 "nbformat_minor": 5
}
