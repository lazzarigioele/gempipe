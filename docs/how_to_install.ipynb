{
 "cells": [
  {
   "cell_type": "markdown",
   "id": "9caf6c28-ba04-415e-bda2-148d62b7c876",
   "metadata": {},
   "source": [
    "# How to install\n",
    "\n",
    "gempipe is developed and tested under linux/amd64.\n",
    "\n"
   ]
  },
  {
   "cell_type": "markdown",
   "id": "c8c5c206-a631-451a-8936-62498ec23f24",
   "metadata": {},
   "source": [
    "## conda (recommended)\n",
    "\n",
    "gempipe can be easily installed via [conda](https://docs.conda.io/en/latest/):\n",
    "\n",
    "    conda install gempipe -c bioconda\n",
    "    \n",
    "💡 **Tip!** In case a fresh new, dedicated environment for gempipe is needed, just type `conda create -n gempipe_env gempipe -c bioconda`, then activate it with `conda activate gempipe_env` to use gempipe.\n",
    "\n",
    "💡 **Tip!** [mamba](https://mamba.readthedocs.io/en/latest/user_guide/mamba.html) is a drop-in replacement for conda, but much more fast! Once mamba is installed, `mamba install gempipe -c bioconda` will take less time then the conda counterpart.\n",
    "\n",
    "📌 **Note!** The [gempipe conda package](https://anaconda.org/bioconda/gempipe) is signed as \"noarch\" (architecture independent), but its dependencies may not be available for all platforms. For example, [cd-hit](https://anaconda.org/bioconda/cd-hit) is currently still not available for recent Apple Silicon (ie `osx-arm64`) machines, so the installation on this architecture will be halted; older Intel-based Apple machines (`osx-64`) should not have any problems."
   ]
  },
  {
   "cell_type": "markdown",
   "id": "2e283a28-cc16-4780-af9a-167a1ba8f1d1",
   "metadata": {},
   "source": [
    "## Docker\n",
    "\n",
    "To get the exact same environment used during the gempipe development, use the dedicated [Docker image](https://hub.docker.com/r/lazzarigioele/gempipe/tags). To run the container, please refer to the [Jupyter Docker Stacks documentation](https://jupyter-docker-stacks.readthedocs.io/en/latest/using/running.html)."
   ]
  },
  {
   "cell_type": "code",
   "execution_count": null,
   "id": "401ed20f-cadf-4514-8a71-e7e358c04288",
   "metadata": {},
   "outputs": [],
   "source": []
  }
 ],
 "metadata": {
  "kernelspec": {
   "display_name": "Python 3 (ipykernel)",
   "language": "python",
   "name": "python3"
  },
  "language_info": {
   "codemirror_mode": {
    "name": "ipython",
    "version": 3
   },
   "file_extension": ".py",
   "mimetype": "text/x-python",
   "name": "python",
   "nbconvert_exporter": "python",
   "pygments_lexer": "ipython3",
   "version": "3.9.15"
  }
 },
 "nbformat": 4,
 "nbformat_minor": 5
}
