{
 "cells": [
  {
   "cell_type": "markdown",
   "id": "9caf6c28-ba04-415e-bda2-148d62b7c876",
   "metadata": {},
   "source": [
    "# How to install\n",
    "\n",
    "gempipe is developed and tested under linux/amd64.\n",
    "\n",
    "## conda (recommended)\n",
    "\n",
    "gempipe can be easily installed via [conda](https://docs.conda.io/en/latest/):\n",
    "\n",
    "    conda install gempipe -c bioconda\n",
    "    \n",
    "**WARNING:** conda installation is not currently implemented. As temporary replacement method, dowload the [gempipe.yml](https://github.com/lazzarigioele/gempipe/raw/master/reprod/gempipe.yml) file and use it to recreate the gempipe environment:\n",
    "\n",
    "    conda env create -f gempipe.yml"
   ]
  }
 ],
 "metadata": {
  "kernelspec": {
   "display_name": "Python 3 (ipykernel)",
   "language": "python",
   "name": "python3"
  },
  "language_info": {
   "codemirror_mode": {
    "name": "ipython",
    "version": 3
   },
   "file_extension": ".py",
   "mimetype": "text/x-python",
   "name": "python",
   "nbconvert_exporter": "python",
   "pygments_lexer": "ipython3",
   "version": "3.9.15"
  }
 },
 "nbformat": 4,
 "nbformat_minor": 5
}
