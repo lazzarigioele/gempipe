{
 "cells": [
  {
   "cell_type": "code",
   "execution_count": 1,
   "id": "21ff81aa-2c70-470f-8e45-47ca02741f8f",
   "metadata": {
    "tags": [
     "remove-cell"
    ]
   },
   "outputs": [],
   "source": [
    "%load_ext autoreload\n",
    "%aimport gempipe, gempipe.interface, gempipe.interface.sanity, gempipe.interface.gaps, gempipe.interface.medium\n",
    "%autoreload 1"
   ]
  },
  {
   "cell_type": "markdown",
   "id": "2167d1a0-e0b8-4cf6-b37b-a27e22865fd9",
   "metadata": {},
   "source": [
    "## _Tutorial:_ multi-strain analysis"
   ]
  },
  {
   "cell_type": "markdown",
   "id": "15f5aad9-6693-4b83-a414-f79513357622",
   "metadata": {},
   "source": [
    "To do..."
   ]
  },
  {
   "cell_type": "code",
   "execution_count": 5,
   "id": "93f17d33-0266-44f7-b26b-5d73dabe8af3",
   "metadata": {},
   "outputs": [
    {
     "name": "stdout",
     "output_type": "stream",
     "text": [
      "Loading PAM (tutoring_materials/plantarum/pam.csv)...\n",
      "Loading functional annotation table (tutoring_materials/plantarum/annotation.csv)...\n",
      "Loading report table (tutoring_materials/plantarum/report.csv)...\n",
      "Loading draft pan-GSMM (tutoring_materials/plantarum/draft_panmodel.json)...\n"
     ]
    }
   ],
   "source": [
    "import gempipe\n",
    "\n",
    "# initialize gempipe on the 'gempipe recon' --outdir:\n",
    "panmodel = gempipe.initialize(\"tutoring_materials/plantarum\")"
   ]
  },
  {
   "cell_type": "markdown",
   "id": "17e7365a-ab14-4480-83f8-1e97ff925bd4",
   "metadata": {},
   "source": [
    "We start from setting the unconstrained lower and upper bounds. Originally they were set as -999999/999999, and this doesn't represent an issue. Anyway, we prefer to have them in the style -1000/1000, that seems more established today. We use the function [gempipe.reset_unconstrained_bounds](https://gempipe.readthedocs.io/en/latest/autoapi/gempipe/interface/sanity/index.html#gempipe.interface.sanity.reset_unconstrained_bounds):"
   ]
  },
  {
   "cell_type": "code",
   "execution_count": null,
   "id": "1e1a5ff7-21b7-4132-84fa-8ad223f55ccb",
   "metadata": {},
   "outputs": [],
   "source": []
  }
 ],
 "metadata": {
  "kernelspec": {
   "display_name": "Python 3 (ipykernel)",
   "language": "python",
   "name": "python3"
  },
  "language_info": {
   "codemirror_mode": {
    "name": "ipython",
    "version": 3
   },
   "file_extension": ".py",
   "mimetype": "text/x-python",
   "name": "python",
   "nbconvert_exporter": "python",
   "pygments_lexer": "ipython3",
   "version": "3.9.15"
  }
 },
 "nbformat": 4,
 "nbformat_minor": 5
}
