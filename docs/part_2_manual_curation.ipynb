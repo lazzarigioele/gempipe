{
 "cells": [
  {
   "cell_type": "code",
   "execution_count": 3,
   "id": "5271f263-1f26-444b-9653-cbf375fc8eaa",
   "metadata": {
    "tags": [
     "remove-cell"
    ]
   },
   "outputs": [
    {
     "name": "stdout",
     "output_type": "stream",
     "text": [
      "The autoreload extension is already loaded. To reload it, use:\n",
      "  %reload_ext autoreload\n"
     ]
    }
   ],
   "source": [
    "%load_ext autoreload\n",
    "%aimport gempipe, gempipe.flowchart\n",
    "%autoreload 1\n"
   ]
  },
  {
   "cell_type": "code",
   "execution_count": 5,
   "id": "6402893f-e91e-4661-b4cb-c8c27ef11181",
   "metadata": {
    "tags": [
     "remove-input"
    ]
   },
   "outputs": [
    {
     "data": {
      "text/html": [
       "\n",
       "        <style> #outcellbox {display: flex; justify-content: center; overflow: hidden; width: 99%; height: 300px; background-color: #ffffff; border: 1px solid grey;} </style>\n",
       "        \n",
       "        <script src=\"https://unpkg.com/@panzoom/panzoom@4.5.1/dist/panzoom.min.js\"></script>\n",
       "\n",
       "        <div class=\"mermaid-4615fd42-1cd4-485c-be99-721f62c451e1\" id=\"outcellbox\"></div> \n",
       "        <script type=\"module\">\n",
       "            import mermaid from 'https://cdn.jsdelivr.net/npm/mermaid@10.6.1/+esm';\n",
       "            const graphDefinition = 'flowchart LR \\nsubgraph Part_2[Part 2]\\n\\nManual_curation((Manual_curation)) --> panmodel{{panmodel}}\\n\\nend\\n\\ndraft_panmodel{{draft_panmodel}} --> Manual_curation((Manual_curation))\\nUniverse{{Universe}} --> Manual_curation((Manual_curation))\\nGene_functions{{Gene_functions}} --> Manual_curation((Manual_curation))\\nPAM{{PAM}} --> Manual_curation((Manual_curation))\\n\\n\\nclick Manual_curation href \"https://gempipe.readthedocs.io/en/latest/part_2_manual_curation.html\" \"Link\"\\n\\n\\n\\nstyle Part_2 fill:white\\n\\nstyle panmodel fill:gold\\n\\nstyle Manual_curation fill:whitesmoke\\nstyle draft_panmodel fill:lightblue\\nstyle Universe fill:violet\\nstyle Gene_functions fill:lightblue\\nstyle PAM fill:gold\\n';\n",
       "            const element = document.querySelector('.mermaid-4615fd42-1cd4-485c-be99-721f62c451e1');\n",
       "            const { svg } = await mermaid.render('graphDiv-4615fd42-1cd4-485c-be99-721f62c451e1', graphDefinition);\n",
       "            element.innerHTML = svg;\n",
       "            \n",
       "            const elem = document.getElementById('graphDiv-4615fd42-1cd4-485c-be99-721f62c451e1');\n",
       "            const panzoom = Panzoom(elem, {maxScale: 50});\n",
       "            panzoom.zoom(0.7);\n",
       "            elem.parentElement.addEventListener('wheel', panzoom.zoomWithWheel);\n",
       "        </script>\n",
       "        "
      ],
      "text/plain": [
       "<IPython.core.display.HTML object>"
      ]
     },
     "metadata": {},
     "output_type": "display_data"
    }
   ],
   "source": [
    "from gempipe import Flowchart\n",
    "\n",
    "file = open('flowcharts/part_2.flowchart', 'r')\n",
    "header = 'flowchart LR \\n'\n",
    "flowchart = Flowchart(header + file.read())\n",
    "file.close()\n",
    "flowchart.render(height=300, zoom=0.7)"
   ]
  },
  {
   "cell_type": "markdown",
   "id": "779a9bdc-2d3f-49fb-bb03-c31a7344267f",
   "metadata": {
    "tags": []
   },
   "source": [
    "# Part 2: manual curation\n",
    "\n",
    "[`gempipe recon`](part_1_gempipe_recon.ipynb) produced a draft pan-GSMM, that it's now time to curate before going on with [`gempipe derive`](part_3_gempipe_derive.ipynb). Manual curation of the draft pan-GSMM consists of several tasks, such as:\n",
    "\n",
    "* ensure the stoichiometric consistency of the model.\n",
    "* add missing reactions, finding unmodeled metabolic genes on the functional annotation table. \n",
    "* adapt the biomass assembly reaction, for example to remove strain-specific biomass precursors. \n",
    "* remove eventual erroneous energy-generating cycles (EGCs).\n",
    "* and so on...\n",
    "\n",
    "gempipe includes the [gempipe API](https://gempipe.readthedocs.io/en/latest/autoapi/gempipe/interface/index.html) to speed up the manual curation. It's composed by handy functions, such as for example [check_reactants](https://gempipe.readthedocs.io/en/latest/autoapi/gempipe/interface/gaps/index.html#gempipe.interface.gaps.check_reactants), which indicates which precursors of a reaction are blocked, or [perform_gapfilling](https://gempipe.readthedocs.io/en/latest/autoapi/gempipe/interface/gaps/index.html#gempipe.interface.gaps.perform_gapfilling), which suggests the reactions to include to enable the biosynthesis of a particular metabolite. We made some tutorials to show our approach with the gempipe API functions, you can find them on the left bar:\n",
    "\n",
    "* [_Tutorial:_ gap-filling](tutorial_gapfilling.ipynb)\n",
    "* [_Tutorial:_ sanity check](tutorial_sanity_check.ipynb)\n",
    "\n",
    "The provided API is not aimed to replace the community effort [Memote](https://memote.readthedocs.io/en/latest/), but just to provide a quick and convenient way to check the main sanity standards and perform gap-fillings before going on deriving strain-specific GSMMs with `gempipe derive`. \n",
    "\n",
    "⏩ **Warning!** We pride an additional command line program [`gempipe autopilot`](gempipe_autopilot.ipynb), which internally calls [`gempipe recon`](part_1_gempipe_recon.ipynb) and [`gempipe derive`](part_3_gempipe_derive.ipynb), linking them together performing an automated gap-filling on the draft pan-GSMM, as a (_discouraged_) alternative to the manual curation. "
   ]
  },
  {
   "cell_type": "code",
   "execution_count": null,
   "id": "df57b106-f6c8-4489-b608-acb589571995",
   "metadata": {},
   "outputs": [],
   "source": []
  }
 ],
 "metadata": {
  "kernelspec": {
   "display_name": "Python 3 (ipykernel)",
   "language": "python",
   "name": "python3"
  },
  "language_info": {
   "codemirror_mode": {
    "name": "ipython",
    "version": 3
   },
   "file_extension": ".py",
   "mimetype": "text/x-python",
   "name": "python",
   "nbconvert_exporter": "python",
   "pygments_lexer": "ipython3",
   "version": "3.9.15"
  }
 },
 "nbformat": 4,
 "nbformat_minor": 5
}
