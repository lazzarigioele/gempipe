{
 "cells": [
  {
   "cell_type": "markdown",
   "id": "eaa3d3d4-8573-469e-80e6-ec2aaaab39da",
   "metadata": {
    "tags": []
   },
   "source": [
    "<div align=\"center\" style=\"margin: 50px\">\n",
    "  <img src=\"_static/icon_proposal.svg\" alt=\"icon_proposal.svg\" style=\"height: 150px; width: auto;\">\n",
    "</div>\n",
    "\n",
    "# Gempipe documentation\n",
    "\n",
    "Gempipe is a tool for drafting, curating and analyzing pan and multi-strain reconstructions of genome-scale metabolic models (GSMMs or GEMs)."
   ]
  },
  {
   "cell_type": "markdown",
   "id": "74ec63a7-1781-4316-8c6d-431c32deb3d1",
   "metadata": {
    "jp-MarkdownHeadingCollapsed": true,
    "tags": []
   },
   "source": [
    "```{toctree}\n",
    ":maxdepth: 1\n",
    "\n",
    "introduction.ipynb\n",
    "```"
   ]
  },
  {
   "cell_type": "markdown",
   "id": "90fe0138-5778-4f8e-892c-171d289b20f8",
   "metadata": {},
   "source": [
    "```{toctree}\n",
    ":maxdepth: 1\n",
    "\n",
    "how_to_install.ipynb\n",
    "```"
   ]
  },
  {
   "cell_type": "markdown",
   "id": "90c7d512-ebc4-41d9-a386-8f79b6b7450a",
   "metadata": {
    "jp-MarkdownHeadingCollapsed": true,
    "tags": []
   },
   "source": [
    "```{toctree}\n",
    ":maxdepth: 2\n",
    "\n",
    "part_1_gempipe_recon.ipynb\n",
    "part_2_manual_curation.ipynb\n",
    "part_3_gempipe_derive.ipynb\n",
    "part_4_multi_strain_analysis.ipynb\n",
    "gempipe_autopilot.ipynb\n",
    "```"
   ]
  },
  {
   "cell_type": "markdown",
   "id": "73747378-5d02-4c73-bd6a-172818d070db",
   "metadata": {},
   "source": [
    "```{toctree}\n",
    ":maxdepth: 1\n",
    "\n",
    "how_to_cite.ipynb\n",
    "```"
   ]
  },
  {
   "cell_type": "markdown",
   "id": "78dda056-88e6-480a-888e-a24f3f15246d",
   "metadata": {},
   "source": [
    "```{toctree}\n",
    ":maxdepth: 1\n",
    ":caption: API\n",
    ":hidden:\n",
    "\n",
    "autoapi/gempipe/interface/index\n",
    "tutorial_sanity_check.ipynb\n",
    "tutorial_gapfilling.ipynb\n",
    "tutorial_clustering.ipynb\n",
    "```"
   ]
  },
  {
   "cell_type": "markdown",
   "id": "1b004b37-a9f1-4833-938a-309e04624f40",
   "metadata": {},
   "source": [
    "<!-- autoapi/gempipe/curate/index -->\n",
    "<!-- autoapi/index -->"
   ]
  },
  {
   "cell_type": "code",
   "execution_count": null,
   "id": "07df7917-5d17-495d-be48-f59738b934e8",
   "metadata": {},
   "outputs": [],
   "source": []
  }
 ],
 "metadata": {
  "kernelspec": {
   "display_name": "Python 3 (ipykernel)",
   "language": "python",
   "name": "python3"
  },
  "language_info": {
   "codemirror_mode": {
    "name": "ipython",
    "version": 3
   },
   "file_extension": ".py",
   "mimetype": "text/x-python",
   "name": "python",
   "nbconvert_exporter": "python",
   "pygments_lexer": "ipython3",
   "version": "3.9.15"
  }
 },
 "nbformat": 4,
 "nbformat_minor": 5
}
