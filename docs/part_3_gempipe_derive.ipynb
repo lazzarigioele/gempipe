{
 "cells": [
  {
   "cell_type": "code",
   "execution_count": 1,
   "id": "6ab8296a-c2cf-4eaf-a47c-87d165e01aa4",
   "metadata": {
    "tags": [
     "remove-cell"
    ]
   },
   "outputs": [],
   "source": [
    "%load_ext autoreload\n",
    "%aimport gempipe, gempipe.flowchart\n",
    "%autoreload 1 "
   ]
  },
  {
   "cell_type": "code",
   "execution_count": 9,
   "id": "b5a6b58b-aa71-4e3c-be9b-2343ee178888",
   "metadata": {
    "tags": [
     "remove-input"
    ]
   },
   "outputs": [
    {
     "data": {
      "text/html": [
       "\n",
       "        <style> #outcellbox {display: flex; justify-content: center; overflow: hidden; width: 99%; height: 300px; background-color: #ffffff; border: 1px solid grey;} </style>\n",
       "        \n",
       "        <script src=\"https://unpkg.com/@panzoom/panzoom@4.5.1/dist/panzoom.min.js\"></script>\n",
       "\n",
       "        <div class=\"mermaid-1ae5de46-343d-461e-ae80-56362a80057d\" id=\"outcellbox\"></div> \n",
       "        <script type=\"module\">\n",
       "            import mermaid from 'https://cdn.jsdelivr.net/npm/mermaid@10.6.1/+esm';\n",
       "            const graphDefinition = 'flowchart LR \\nsubgraph Part_3[Part 3]\\n\\nstrain_derivation --> strain_models{{strain_models}} --> gapfilling --> gf_strain_models{{gf_strain_models}} \\ngf_strain_models --> species_derivation --> species_models{{species_models}}\\n\\nend\\n\\npanmodel{{panmodel}} & PAM{{PAM}} --> strain_derivation\\n\\nstyle Part_3 fill:white\\n\\nstyle strain_models fill:lightblue\\nstyle gf_strain_models fill:gold\\nstyle species_models fill:gold\\nstyle gapfilling fill:whitesmoke\\nstyle panmodel fill:gold\\nstyle PAM fill:gold\\n\\nstyle strain_derivation fill:whitesmoke\\nstyle species_derivation fill:whitesmoke \\n\\n\\n';\n",
       "            const element = document.querySelector('.mermaid-1ae5de46-343d-461e-ae80-56362a80057d');\n",
       "            const { svg } = await mermaid.render('graphDiv-1ae5de46-343d-461e-ae80-56362a80057d', graphDefinition);\n",
       "            element.innerHTML = svg;\n",
       "            \n",
       "            const elem = document.getElementById('graphDiv-1ae5de46-343d-461e-ae80-56362a80057d');\n",
       "            const panzoom = Panzoom(elem, {maxScale: 50});\n",
       "            panzoom.zoom(1);\n",
       "            elem.parentElement.addEventListener('wheel', panzoom.zoomWithWheel);\n",
       "        </script>\n",
       "        "
      ],
      "text/plain": [
       "<IPython.core.display.HTML object>"
      ]
     },
     "metadata": {},
     "output_type": "display_data"
    }
   ],
   "source": [
    "from gempipe import Flowchart\n",
    "\n",
    "file = open('flowcharts/part_3.flowchart', 'r')\n",
    "header = 'flowchart LR \\n'\n",
    "flowchart = Flowchart(header + file.read())\n",
    "file.close()\n",
    "flowchart.render(height=300, zoom=1)"
   ]
  },
  {
   "cell_type": "markdown",
   "id": "42513ac2-81c9-42fa-9f02-0fdf5f977092",
   "metadata": {},
   "source": [
    "# Part 3: gempipe derive\n",
    "\n",
    "`gempipe derive` is designed to derive strain-specific GSMMs, using as main inputs the PAM (presence/absence matrix) and the pan-GSMM. Below we show all the options: "
   ]
  },
  {
   "cell_type": "code",
   "execution_count": 2,
   "id": "10f5f830-219f-46e1-94b0-ea8807aa1344",
   "metadata": {
    "tags": [
     "remove-input"
    ]
   },
   "outputs": [
    {
     "name": "stdout",
     "output_type": "stream",
     "text": [
      "usage: gempipe derive [-h] [-v] [-c] [-o] [--verbose] [-im] [-ip] [-ir] [-ig]\n",
      "                      [-m] [--minflux] [--biolog] [--sbml]\n",
      "\n",
      "gempipe v1.33.4, please cite \"TODO\". Full documentation available at\n",
      "https://gempipe.readthedocs.io/en/latest/index.html.\n",
      "\n",
      "optional arguments:\n",
      "  -h, --help           Show this help message and exit.\n",
      "  -v, --version        Show version number and exit.\n",
      "  -c , --cores         How many parallel processes to use. (default: 1)\n",
      "  -o , --outdir        Main output directory (will be created if not\n",
      "                       existing). (default: ./)\n",
      "  --verbose            Make stdout messages more verbose, including debug\n",
      "                       messages. (default: False)\n",
      "  -im , --inpanmodel   Path to the input pan-model. (default: -)\n",
      "  -ip , --inpam        Path to the input PAM. (default: -)\n",
      "  -ir , --inreport     Path to the input report file. (default: -)\n",
      "  -ig , --ingannots    Path to the input genes annotation file. (default: -)\n",
      "  -m , --media         Medium definition file or folder containing media\n",
      "                       definitions, to be used during the automatic gap-\n",
      "                       filling. (default: -)\n",
      "  --minflux            Minimum flux through the objective of strain-specific\n",
      "                       models. (default: 0.1)\n",
      "  --biolog             Simulate Biolog's utilization tests on strain-specific\n",
      "                       models. (default: False)\n",
      "  --sbml               Save the output GSMMs in SBML format in addition to\n",
      "                       JSON. (default: False)\n"
     ]
    }
   ],
   "source": [
    "import subprocess\n",
    "\n",
    "command = f\"\"\"gempipe derive -h\"\"\"\n",
    "process = subprocess.Popen(command, shell=True)\n",
    "response = process.wait()\n"
   ]
  },
  {
   "cell_type": "markdown",
   "id": "a1f1c1a8-4246-4b77-bfcd-755a6bfb1cb2",
   "metadata": {},
   "source": [
    "## Deriving strain-specific models\n",
    "\n",
    "Three inputs are required by `gempipe derive` to start: \n",
    "\n",
    "1. the pan-GSMM (`-im`/`--inpanmodel`), in its final version. Note that a draft pan-GSMM was provided in [Part 1 (`gempipe recon`)](part_1_gempipe_recon.ipynb), that was subsequently curated in [Part 2](part_2_manual_curation.ipynb) with a dedicated [API](https://gempipe.readthedocs.io/en/latest/autoapi/gempipe/curate/index.html).\n",
    "\n",
    "2. the presence/absence matrix (PAM) (`-ip`/`--inpam`), as it was provided by `gempipe recon`. Note that this table contains clusters in row, and strains in column, and each cell contanins the strain's genes belonging to the corresponding cluster (read the dedicated [paragraph](https://gempipe.readthedocs.io/en/latest/part_1_gempipe_recon.html#creation-of-a-pam)\n",
    "\n",
    "3. the report (`-ir`/`--inreport`) produced by `gempipe recon`, contaning the strain-to-species relationships. \n",
    "\n",
    "Below we report an example of command line: \n",
    "\n",
    "    gempipe derive -c 16 -im curation/panmdoel.json -ip reconout/pam.csv -ir reconout/report.csv\n",
    "\n",
    "When `gempipe derive` starts, a species-specific GSMM is created for each genome that passed quality filtering in [Part 1](https://gempipe.readthedocs.io/en/latest/part_1_gempipe_recon.html#filtering-the-genomes). This procedure may be called \"derivation by subtraction\", meaning that a copy of the pan-GSMM is subtracted from all the genes that are missing from the corresponding strain, according to the PAM content. Removing genes can eventually lead to the removal of metabolic reactions, in accordance to the GPR definitions. \n",
    "\n",
    "💡 **Tip!** If [`gempipe recon`](part_1_gempipe_recon.ipynb) started from genbanks, then a genome annotation file was produced. You can pass it to `gempipe derive` using `-ig`/`--ingannots` to improve the \"gene annotation\" section of the [Memote reports](https://memote.readthedocs.io/en/latest/index.html)."
   ]
  },
  {
   "cell_type": "markdown",
   "id": "a5690d1d-1238-45eb-87e8-02d1d2b570d8",
   "metadata": {},
   "source": [
    "## Gap-filling strain-specific models\n",
    "\n",
    "After the above process, a strain-specific GSMM may not grow. The reasons are several:\n",
    "\n",
    "* the biomass assembly reaction coming from the pan-GSMM contains some strain-specific precursors. In this case, it would be better to first remove the strain-specific precursors from the biomass assembly during the manual curation in [Part 2](part_2_manual_curation.ipynb).\n",
    "\n",
    "* the GPR of some reactions essential to form biomass doesn't take into account strain-specific gene variants. By design, the [clustering step](https://gempipe.readthedocs.io/en/latest/part_1_gempipe_recon.html#creation-of-a-pam) in `gempipe recon` is performed at high sequence identity (90%), meaning that two orthologous genes, if sufficiently dissimilar, may be grouped in different clusters even if the function is the same. Despite `gempipe recon` does its best to manage these cases, it could be necessary to expand some GPR during the manual curation in [Part 2](part_2_manual_curation.ipynb).\n",
    "\n",
    "To solve the cases where a strain-specific GSMM doesn't grow, an automated and strain-specific step of **gap-filling** is performed. You have to provide one or more growth media recipes (`--media`), better if minimal, known or assumed to enable growth of **all** the strains in input. The parameter `--minflux` enables the user to specify the minimum flux through the objective to require during this gap-filling. However, each strain that doesn't growth should deserve a manual inspection, to see if one of the cases discussed above has occurred, leading to an improved manual curation.  \n",
    "\n",
    "A medium recipe can be described using a **json file** following a rigid syntax, composed by the keys `name` and `exchanges`, plus the lower bounds of each component. For example:\n",
    "\n",
    "```\n",
    "{\"name\": \"my_medium_name\", \"exchanges\": {\"EX_ca2_e\": -1000, \"EX_cl_e\": -1000, \"EX_co2_e\": -1000, \"EX_cobalt2_e\": -1000, \"EX_cu2_e\": -1000, \"EX_h_e\": -1000, \"EX_fe2_e\": -1000, \"EX_fe3_e\": -1000, \"EX_h2o_e\": -1000, \"EX_pi_e\": -1000, \"EX_glc__D_e\": -1000, \"EX_so4_e\": -1000, \"EX_k_e\": -1000, \"EX_zn2_e\": -1000, \"EX_mg2_e\": -1000, \"EX_mn2_e\": -1000, \"EX_mobd_e\": -1000, \"EX_nh4_e\": -1000, \"EX_o2_e\": -1000}}\n",
    "```\n",
    "\n"
   ]
  },
  {
   "cell_type": "markdown",
   "id": "bb963baf-27e9-49d5-8aab-ef5963c0580b",
   "metadata": {},
   "source": [
    "## Biolog® PM simulations"
   ]
  },
  {
   "cell_type": "markdown",
   "id": "199d5ede-9463-4c16-83a7-9c5d4bcd7f2b",
   "metadata": {},
   "source": [
    "[Biolog® PM](https://www.biolog.com/products/metabolic-characterization-microplates/microbial-phenotype/) growth assays are commonly used to drive manual curation and to validate a GSMM. Using the `--biolog` option, you can automatically simulate all the main [Biolog® PM plates](https://www.biolog.com/wp-content/uploads/2024/06/00A-042-Rev-E-Phenotype-MicroArrays-1-10-Plate-Maps.pdf) (such as PM1, PM2A, PM3, PM4, and so on) for each modeled strain. Alternatively, the same function can be interactively callet via the [gempipe API](autoapi/gempipe/curate/index) (see the function [gempipe.biolog_preview](https://gempipe.readthedocs.io/en/latest/autoapi/gempipe/curate/gaps/index.html#gempipe.curate.gaps.biolog_preview)). \n",
    "\n",
    "With this feature, substrates composing the Biolog® PM plates are iterated and tested for utilization, see below for an example output. The same substrate (`substrate`) can be considered as a C, N, P, or S source (`source`) according to the plate or origin; in these cases, a different growth simulation will be performed for each nutritive source. For example, if the starting C source is glucose (`exr_before`), then it is first removed and an FBA is performed; then the new C source (`exr_after`) is introduced, if it's present in the GSMM (`exr_after_present`), and the FBA is performed again; if the objective value increases, then the strain is assumed to be able to use the substrate (`growth=True`). For more information please read the [gempipe paper](how_to_cite.ipynb)."
   ]
  },
  {
   "cell_type": "code",
   "execution_count": 8,
   "id": "8cd70cbc-fd35-4394-b516-37a7b67d168e",
   "metadata": {
    "tags": [
     "remove-input"
    ]
   },
   "outputs": [
    {
     "data": {
      "text/html": [
       "<div>\n",
       "<style scoped>\n",
       "    .dataframe tbody tr th:only-of-type {\n",
       "        vertical-align: middle;\n",
       "    }\n",
       "\n",
       "    .dataframe tbody tr th {\n",
       "        vertical-align: top;\n",
       "    }\n",
       "\n",
       "    .dataframe thead th {\n",
       "        text-align: right;\n",
       "    }\n",
       "</style>\n",
       "<table border=\"1\" class=\"dataframe\">\n",
       "  <thead>\n",
       "    <tr style=\"text-align: right;\">\n",
       "      <th></th>\n",
       "      <th>substrate</th>\n",
       "      <th>source</th>\n",
       "      <th>formula</th>\n",
       "      <th>exr_before</th>\n",
       "      <th>exr_before_present</th>\n",
       "      <th>exr_after</th>\n",
       "      <th>exr_after_present</th>\n",
       "      <th>growth</th>\n",
       "      <th>value</th>\n",
       "      <th>status</th>\n",
       "    </tr>\n",
       "  </thead>\n",
       "  <tbody>\n",
       "    <tr>\n",
       "      <th>0</th>\n",
       "      <td>L-Arabinose</td>\n",
       "      <td>C</td>\n",
       "      <td>NaN</td>\n",
       "      <td>EX_glc__D_e</td>\n",
       "      <td>True</td>\n",
       "      <td>EX_arab__L_e</td>\n",
       "      <td>False</td>\n",
       "      <td>NaN</td>\n",
       "      <td>NaN</td>\n",
       "      <td>NaN</td>\n",
       "    </tr>\n",
       "    <tr>\n",
       "      <th>1</th>\n",
       "      <td>D-Saccharic Acid</td>\n",
       "      <td>C</td>\n",
       "      <td>C6H8O8</td>\n",
       "      <td>EX_glc__D_e</td>\n",
       "      <td>True</td>\n",
       "      <td>EX_glcr_e</td>\n",
       "      <td>True</td>\n",
       "      <td>True</td>\n",
       "      <td>19.728400</td>\n",
       "      <td>optimal</td>\n",
       "    </tr>\n",
       "    <tr>\n",
       "      <th>2</th>\n",
       "      <td>D-Galactose</td>\n",
       "      <td>C</td>\n",
       "      <td>C6H12O6</td>\n",
       "      <td>EX_glc__D_e</td>\n",
       "      <td>True</td>\n",
       "      <td>EX_gal_e</td>\n",
       "      <td>True</td>\n",
       "      <td>False</td>\n",
       "      <td>0.000000</td>\n",
       "      <td>optimal</td>\n",
       "    </tr>\n",
       "    <tr>\n",
       "      <th>3</th>\n",
       "      <td>L-Aspartic Acid</td>\n",
       "      <td>N</td>\n",
       "      <td>C4H6NO4</td>\n",
       "      <td>EX_nh4_e</td>\n",
       "      <td>True</td>\n",
       "      <td>EX_asp__L_e</td>\n",
       "      <td>True</td>\n",
       "      <td>True</td>\n",
       "      <td>28.743739</td>\n",
       "      <td>optimal</td>\n",
       "    </tr>\n",
       "    <tr>\n",
       "      <th>4</th>\n",
       "      <td>L-Aspartic Acid</td>\n",
       "      <td>C</td>\n",
       "      <td>C4H6NO4</td>\n",
       "      <td>EX_glc__D_e</td>\n",
       "      <td>True</td>\n",
       "      <td>EX_asp__L_e</td>\n",
       "      <td>True</td>\n",
       "      <td>True</td>\n",
       "      <td>17.614535</td>\n",
       "      <td>optimal</td>\n",
       "    </tr>\n",
       "    <tr>\n",
       "      <th>...</th>\n",
       "      <td>...</td>\n",
       "      <td>...</td>\n",
       "      <td>...</td>\n",
       "      <td>...</td>\n",
       "      <td>...</td>\n",
       "      <td>...</td>\n",
       "      <td>...</td>\n",
       "      <td>...</td>\n",
       "      <td>...</td>\n",
       "      <td>...</td>\n",
       "    </tr>\n",
       "    <tr>\n",
       "      <th>646</th>\n",
       "      <td>Thiourea</td>\n",
       "      <td>S</td>\n",
       "      <td>NaN</td>\n",
       "      <td>EX_so4_e</td>\n",
       "      <td>True</td>\n",
       "      <td>NaN</td>\n",
       "      <td>False</td>\n",
       "      <td>NaN</td>\n",
       "      <td>NaN</td>\n",
       "      <td>NaN</td>\n",
       "    </tr>\n",
       "    <tr>\n",
       "      <th>647</th>\n",
       "      <td>D-Serine</td>\n",
       "      <td>N</td>\n",
       "      <td>C3H7NO3</td>\n",
       "      <td>EX_nh4_e</td>\n",
       "      <td>True</td>\n",
       "      <td>EX_ser__D_e</td>\n",
       "      <td>True</td>\n",
       "      <td>True</td>\n",
       "      <td>34.731331</td>\n",
       "      <td>optimal</td>\n",
       "    </tr>\n",
       "    <tr>\n",
       "      <th>648</th>\n",
       "      <td>D-Serine</td>\n",
       "      <td>C</td>\n",
       "      <td>C3H7NO3</td>\n",
       "      <td>EX_glc__D_e</td>\n",
       "      <td>True</td>\n",
       "      <td>EX_ser__D_e</td>\n",
       "      <td>True</td>\n",
       "      <td>True</td>\n",
       "      <td>33.295776</td>\n",
       "      <td>optimal</td>\n",
       "    </tr>\n",
       "    <tr>\n",
       "      <th>649</th>\n",
       "      <td>Succinic Acid</td>\n",
       "      <td>C</td>\n",
       "      <td>C4H4O4</td>\n",
       "      <td>EX_glc__D_e</td>\n",
       "      <td>True</td>\n",
       "      <td>EX_succ_e</td>\n",
       "      <td>True</td>\n",
       "      <td>True</td>\n",
       "      <td>17.473351</td>\n",
       "      <td>optimal</td>\n",
       "    </tr>\n",
       "    <tr>\n",
       "      <th>650</th>\n",
       "      <td>Fumaric Acid</td>\n",
       "      <td>C</td>\n",
       "      <td>C4H2O4</td>\n",
       "      <td>EX_glc__D_e</td>\n",
       "      <td>True</td>\n",
       "      <td>EX_fum_e</td>\n",
       "      <td>True</td>\n",
       "      <td>True</td>\n",
       "      <td>17.614535</td>\n",
       "      <td>optimal</td>\n",
       "    </tr>\n",
       "  </tbody>\n",
       "</table>\n",
       "<p>651 rows × 10 columns</p>\n",
       "</div>"
      ],
      "text/plain": [
       "            substrate source  formula   exr_before  exr_before_present   \n",
       "0         L-Arabinose      C      NaN  EX_glc__D_e                True  \\\n",
       "1    D-Saccharic Acid      C   C6H8O8  EX_glc__D_e                True   \n",
       "2         D-Galactose      C  C6H12O6  EX_glc__D_e                True   \n",
       "3     L-Aspartic Acid      N  C4H6NO4     EX_nh4_e                True   \n",
       "4     L-Aspartic Acid      C  C4H6NO4  EX_glc__D_e                True   \n",
       "..                ...    ...      ...          ...                 ...   \n",
       "646          Thiourea      S      NaN     EX_so4_e                True   \n",
       "647          D-Serine      N  C3H7NO3     EX_nh4_e                True   \n",
       "648          D-Serine      C  C3H7NO3  EX_glc__D_e                True   \n",
       "649     Succinic Acid      C   C4H4O4  EX_glc__D_e                True   \n",
       "650      Fumaric Acid      C   C4H2O4  EX_glc__D_e                True   \n",
       "\n",
       "        exr_after  exr_after_present growth      value   status  \n",
       "0    EX_arab__L_e              False    NaN        NaN      NaN  \n",
       "1       EX_glcr_e               True   True  19.728400  optimal  \n",
       "2        EX_gal_e               True  False   0.000000  optimal  \n",
       "3     EX_asp__L_e               True   True  28.743739  optimal  \n",
       "4     EX_asp__L_e               True   True  17.614535  optimal  \n",
       "..            ...                ...    ...        ...      ...  \n",
       "646           NaN              False    NaN        NaN      NaN  \n",
       "647   EX_ser__D_e               True   True  34.731331  optimal  \n",
       "648   EX_ser__D_e               True   True  33.295776  optimal  \n",
       "649     EX_succ_e               True   True  17.473351  optimal  \n",
       "650      EX_fum_e               True   True  17.614535  optimal  \n",
       "\n",
       "[651 rows x 10 columns]"
      ]
     },
     "execution_count": 8,
     "metadata": {},
     "output_type": "execute_result"
    }
   ],
   "source": [
    "import pandas as pnd\n",
    "\n",
    "biolog_example = pnd.read_csv('tutoring_materials/K27.csv', index_col=0)\n",
    "biolog_example"
   ]
  },
  {
   "cell_type": "markdown",
   "id": "c91b0213-2c2b-42b4-90d4-d2343b00abed",
   "metadata": {},
   "source": [
    "## Deriving species-specific models\n",
    "\n",
    "A species-specific GSMM is here defined as a GSMM composed by all the reactions **always** present in **all** the strain-specific GSMMs of the species. After gap-filling the strain-specific GSMMs, one species-specific GSMM is derived for each of the species inputted in `gempipe recon`. Having a representative GSMM for each species eneable you to perform **comparisons** at the species level, detecting for example which pathways are characterizing a species from the others.\n",
    "\n"
   ]
  },
  {
   "cell_type": "markdown",
   "id": "c1e1ffd9-70f0-4da7-adea-601c89c38939",
   "metadata": {},
   "source": [
    "## Output files\n",
    "\n",
    "`gempipe derive` produces 2 **main** output files in the current directory (`-o`/`--outdir`):\n",
    "\n",
    "* **strain_models_gf/*.json.** The gap-filled strain-specific GSMMs.\n",
    "\n",
    "* **species_model/*.json.** The species-specific GSMMs.\n",
    "\n",
    "Other useful files are the following:\n",
    "\n",
    "* **strain_models/*.json.** The strain-specific GSMMs, before gap-filling. \n",
    "\n",
    "* **derive_strains.csv.** Table showing metrics for each strain-specific GSMM, such as the number of reactions, the objective value and the solver status, before and after the gap-filling step. \n",
    "\n",
    "* **derive_species.csv.** Table showing metrics for each species-specific GSMM, such as the number of reaction, the objective value and the solver status. One row for each species inputted in `gempipe recon`."
   ]
  },
  {
   "cell_type": "code",
   "execution_count": null,
   "id": "0c6be83a-8f65-4ac7-b33d-631df3429ab0",
   "metadata": {},
   "outputs": [],
   "source": []
  }
 ],
 "metadata": {
  "kernelspec": {
   "display_name": "Python 3 (ipykernel)",
   "language": "python",
   "name": "python3"
  },
  "language_info": {
   "codemirror_mode": {
    "name": "ipython",
    "version": 3
   },
   "file_extension": ".py",
   "mimetype": "text/x-python",
   "name": "python",
   "nbconvert_exporter": "python",
   "pygments_lexer": "ipython3",
   "version": "3.9.15"
  }
 },
 "nbformat": 4,
 "nbformat_minor": 5
}
