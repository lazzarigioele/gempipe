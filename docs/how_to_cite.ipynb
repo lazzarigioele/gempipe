{
 "cells": [
  {
   "cell_type": "markdown",
   "id": "9caf6c28-ba04-415e-bda2-148d62b7c876",
   "metadata": {},
   "source": [
    "# How to cite\n",
    "\n",
    "Manuscript in preparation!"
   ]
  }
 ],
 "metadata": {
  "kernelspec": {
   "display_name": "Python 3 (ipykernel)",
   "language": "python",
   "name": "python3"
  },
  "language_info": {
   "codemirror_mode": {
    "name": "ipython",
    "version": 3
   },
   "file_extension": ".py",
   "mimetype": "text/x-python",
   "name": "python",
   "nbconvert_exporter": "python",
   "pygments_lexer": "ipython3",
   "version": "3.9.15"
  }
 },
 "nbformat": 4,
 "nbformat_minor": 5
}
